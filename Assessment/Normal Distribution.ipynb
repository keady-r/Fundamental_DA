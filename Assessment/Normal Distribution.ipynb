{
 "cells": [
  {
   "cell_type": "markdown",
   "id": "f13354a3",
   "metadata": {},
   "source": [
    "Normal Distribution \n",
    "\n",
    "<br>\n",
    "<b>Create a notebook about normal distribution. Define and explain the main concepts. Direct the notebook to my classmates. Construct visual plots to explain concept. </b>"
   ]
  },
  {
   "cell_type": "markdown",
   "id": "8fef1ef5",
   "metadata": {},
   "source": [
    "1. Overview \n",
    "- What is normal distribution \n",
    "There are two parameters to normal distribution std and mean [1]\n",
    "mean is the central tendency of the normal distribution - peak of the bell curve. Std is the measure of variability defines the width of normal distribution and how far from the mean values tend to fall. \n",
    "\n",
    "Empirical rule describes the percentage of data that fall within specific numbers of standard deviations from the mean for bell-shaped curves. \n",
    "\n",
    "A value on a standard normal distribution is known as a standard score or Z-score. A standard score represents the number of standard deviations above or below the mean that a specific observations falls. Z test \n",
    "\n",
    "Standardization : way of determining where a specific obervation falls related to the entire normal distribution. Allows you to compare observations and calcualte probabilities across different populations. \n",
    "    - Frist convert raw measures to zscores \n",
    "    - Raw measure - mean / std \n",
    "    - after you standardize can place in the normal distribution \n",
    "\n",
    "- Natural phenonomas\n",
    "characterisitics that accumulate due to many independent processes commonly form a normal distribution examples include, height, IQ scores, [1]\n",
    "- empherical rule \n",
    "- Z-scores\n",
    "- calculations touched on in the tasks that lead to distribution e.g. std, central limit theorem, \n",
    "- famous work done by mathematicians on this, \n",
    "- real-life examples, use a dataset to show the live examples. \n",
    "- conclusion"
   ]
  },
  {
   "attachments": {
    "Screen%20Shot%202023-01-06%20at%2015.49.15.png": {
     "image/png": "[encoded data removed]"
    }
   },
   "cell_type": "markdown",
   "id": "b88448f8",
   "metadata": {},
   "source": [
    "![Screen%20Shot%202023-01-06%20at%2015.49.15.png](attachment:Screen%20Shot%202023-01-06%20at%2015.49.15.png)"
   ]
  },
  {
   "cell_type": "markdown",
   "id": "b6a2accc",
   "metadata": {},
   "source": [
    "Figure 1. Z score calculation "
   ]
  },
  {
   "cell_type": "markdown",
   "id": "2f65a4c3",
   "metadata": {},
   "source": [
    "2. Calculations "
   ]
  },
  {
   "cell_type": "code",
   "execution_count": null,
   "id": "f3850e90",
   "metadata": {},
   "outputs": [],
   "source": [
    "import numpy as np\n",
    "import matplotlib.pyplot as plt\n",
    "from scipy.stats import norm\n",
    "import statistics"
   ]
  },
  {
   "cell_type": "markdown",
   "id": "7f2c43bc",
   "metadata": {},
   "source": [
    "3. References \n",
    "1. Normal Distribution Blog highlighting main concepts discussed above. Located here: \n",
    "https://statisticsbyjim.com/basics/normal-distribution/"
   ]
  }
 ],
 "metadata": {
  "kernelspec": {
   "display_name": "Python 3 (ipykernel)",
   "language": "python",
   "name": "python3"
  },
  "language_info": {
   "codemirror_mode": {
    "name": "ipython",
    "version": 3
   },
   "file_extension": ".py",
   "mimetype": "text/x-python",
   "name": "python",
   "nbconvert_exporter": "python",
   "pygments_lexer": "ipython3",
   "version": "3.11.0"
  }
 },
 "nbformat": 4,
 "nbformat_minor": 5
}
