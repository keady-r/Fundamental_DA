{
 "cells": [
  {
   "cell_type": "markdown",
   "id": "9e1bcf4e",
   "metadata": {},
   "source": [
    "<a><img src=\"../images/ATUlogo.png\"></a>\n",
    "# Title : Cleansing Exercise 1 - Write a Python function to remove all non-alphanumeric characters from a string"
   ]
  },
  {
   "cell_type": "markdown",
   "id": "ba55f302",
   "metadata": {},
   "source": [
    "## 1. Overview \n",
    "\n",
    "In simple terms, regular expression is the use of special characters to support a search through a dataset [5. ]"
   ]
  },
  {
   "cell_type": "markdown",
   "id": "2f1322e3",
   "metadata": {},
   "source": [
    "## 2. Calculations"
   ]
  },
  {
   "cell_type": "code",
   "execution_count": 1,
   "id": "7a1779f4",
   "metadata": {},
   "outputs": [],
   "source": [
    "import re"
   ]
  },
  {
   "cell_type": "code",
   "execution_count": 2,
   "id": "9a74d2cc",
   "metadata": {},
   "outputs": [],
   "source": [
    "example_string = \"This string is! to, sh0w that speci@al cha@r@cter$s ca*n be£ r£em0ved^ fr0m a l(ine us!ing 1 0f pyth0ns p@ackages$. Numbers should still remain e.g. - 1234567890 & and so sh0uld letters - e.g. abcdefghijklmnopqrstuwwxyz. Special characters shuold be removed - e.g. !@£$%^&*())<>??\"\n"
   ]
  },
  {
   "cell_type": "code",
   "execution_count": 3,
   "id": "c5232482",
   "metadata": {},
   "outputs": [
    {
     "name": "stdout",
     "output_type": "stream",
     "text": [
      "Thisstringistosh0wthatspecialcharcterscanberem0vedfr0malineusing10fpyth0nspackagesNumbersshouldstillremaineg1234567890andsosh0uldlettersegabcdefghijklmnopqrstuwwxyzSpecialcharactersshuoldberemovedeg\n"
     ]
    }
   ],
   "source": [
    "#re.sub function Replaces one or many matches with a string [1,2]\n",
    "new_str = re.sub(r'[\\W_]', '', example_string)\n",
    "print(new_str)  \n"
   ]
  },
  {
   "cell_type": "code",
   "execution_count": 4,
   "id": "a5f9de70",
   "metadata": {},
   "outputs": [
    {
     "name": "stdout",
     "output_type": "stream",
     "text": [
      "This string is to sh0w that special charcters can be rem0ved fr0m a line using 1 0f pyth0ns packages Numbers should still remain eg  1234567890  and so sh0uld letters  eg abcdefghijklmnopqrstuwwxyz Special characters shuold be removed  eg \n"
     ]
    }
   ],
   "source": [
    "new_str = re.sub(r'[^\\w\\s]', '', example_string)\n",
    "print(new_str) "
   ]
  },
  {
   "cell_type": "markdown",
   "id": "4f071c5b",
   "metadata": {},
   "source": [
    "## 3. References \n",
    "1. Lecture content \n",
    "2. Re Package https://www.w3schools.com/python/python_regex.asp\n",
    "3. Reular expression https://realpython.com/regex-python/\n",
    "4. Regular expression package https://docs.python.org/3/library/re.html\n",
    "5. Definition of regular expression https://www.intel.com/content/www/us/en/programmable/quartushelp/17.0/reference/glossary/def_reg_express.htm"
   ]
  }
 ],
 "metadata": {
  "kernelspec": {
   "display_name": "Python 3 (ipykernel)",
   "language": "python",
   "name": "python3"
  },
  "language_info": {
   "codemirror_mode": {
    "name": "ipython",
    "version": 3
   },
   "file_extension": ".py",
   "mimetype": "text/x-python",
   "name": "python",
   "nbconvert_exporter": "python",
   "pygments_lexer": "ipython3",
   "version": "3.11.0"
  }
 },
 "nbformat": 4,
 "nbformat_minor": 5
}
