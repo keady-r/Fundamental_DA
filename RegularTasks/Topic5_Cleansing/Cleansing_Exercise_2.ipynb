{
 "cells": [
  {
   "cell_type": "markdown",
   "id": "de796912",
   "metadata": {},
   "source": [
    "# Title: Cleansing Exercise 2 - Adapt the above code to capitalise the first letter of the iris species, using regular expressions"
   ]
  },
  {
   "cell_type": "markdown",
   "id": "35ae75a2",
   "metadata": {},
   "source": []
  },
  {
   "cell_type": "markdown",
   "id": "a996a2eb",
   "metadata": {},
   "source": [
    "## 1. Overview "
   ]
  },
  {
   "cell_type": "markdown",
   "id": "d8ae9de4",
   "metadata": {},
   "source": [
    "## 2. Exercise WalkThrough "
   ]
  },
  {
   "cell_type": "code",
   "execution_count": 46,
   "id": "51860206",
   "metadata": {},
   "outputs": [],
   "source": [
    "import re\n",
    "import urllib.request"
   ]
  },
  {
   "cell_type": "code",
   "execution_count": 47,
   "id": "5b550627",
   "metadata": {},
   "outputs": [
    {
     "data": {
      "text/plain": [
       "['5.1,3.5,1.4,0.2,Iris-setosa',\n",
       " '4.9,3.0,1.4,0.2,Iris-setosa',\n",
       " '4.7,3.2,1.3,0.2,Iris-setosa',\n",
       " '4.6,3.1,1.5,0.2,Iris-setosa',\n",
       " '5.0,3.6,1.4,0.2,Iris-setosa',\n",
       " '5.4,3.9,1.7,0.4,Iris-setosa',\n",
       " '4.6,3.4,1.4,0.3,Iris-setosa',\n",
       " '5.0,3.4,1.5,0.2,Iris-setosa',\n",
       " '4.4,2.9,1.4,0.2,Iris-setosa',\n",
       " '4.9,3.1,1.5,0.1,Iris-setosa',\n",
       " '5.4,3.7,1.5,0.2,Iris-setosa',\n",
       " '4.8,3.4,1.6,0.2,Iris-setosa',\n",
       " '4.8,3.0,1.4,0.1,Iris-setosa',\n",
       " '4.3,3.0,1.1,0.1,Iris-setosa',\n",
       " '5.8,4.0,1.2,0.2,Iris-setosa',\n",
       " '5.7,4.4,1.5,0.4,Iris-setosa',\n",
       " '5.4,3.9,1.3,0.4,Iris-setosa',\n",
       " '5.1,3.5,1.4,0.3,Iris-setosa',\n",
       " '5.7,3.8,1.7,0.3,Iris-setosa',\n",
       " '5.1,3.8,1.5,0.3,Iris-setosa',\n",
       " '5.4,3.4,1.7,0.2,Iris-setosa',\n",
       " '5.1,3.7,1.5,0.4,Iris-setosa',\n",
       " '4.6,3.6,1.0,0.2,Iris-setosa',\n",
       " '5.1,3.3,1.7,0.5,Iris-setosa',\n",
       " '4.8,3.4,1.9,0.2,Iris-setosa',\n",
       " '5.0,3.0,1.6,0.2,Iris-setosa',\n",
       " '5.0,3.4,1.6,0.4,Iris-setosa',\n",
       " '5.2,3.5,1.5,0.2,Iris-setosa',\n",
       " '5.2,3.4,1.4,0.2,Iris-setosa',\n",
       " '4.7,3.2,1.6,0.2,Iris-setosa',\n",
       " '4.8,3.1,1.6,0.2,Iris-setosa',\n",
       " '5.4,3.4,1.5,0.4,Iris-setosa',\n",
       " '5.2,4.1,1.5,0.1,Iris-setosa',\n",
       " '5.5,4.2,1.4,0.2,Iris-setosa',\n",
       " '4.9,3.1,1.5,0.1,Iris-setosa',\n",
       " '5.0,3.2,1.2,0.2,Iris-setosa',\n",
       " '5.5,3.5,1.3,0.2,Iris-setosa',\n",
       " '4.9,3.1,1.5,0.1,Iris-setosa',\n",
       " '4.4,3.0,1.3,0.2,Iris-setosa',\n",
       " '5.1,3.4,1.5,0.2,Iris-setosa',\n",
       " '5.0,3.5,1.3,0.3,Iris-setosa',\n",
       " '4.5,2.3,1.3,0.3,Iris-setosa',\n",
       " '4.4,3.2,1.3,0.2,Iris-setosa',\n",
       " '5.0,3.5,1.6,0.6,Iris-setosa',\n",
       " '5.1,3.8,1.9,0.4,Iris-setosa',\n",
       " '4.8,3.0,1.4,0.3,Iris-setosa',\n",
       " '5.1,3.8,1.6,0.2,Iris-setosa',\n",
       " '4.6,3.2,1.4,0.2,Iris-setosa',\n",
       " '5.3,3.7,1.5,0.2,Iris-setosa',\n",
       " '5.0,3.3,1.4,0.2,Iris-setosa',\n",
       " '7.0,3.2,4.7,1.4,Iris-versicolor',\n",
       " '6.4,3.2,4.5,1.5,Iris-versicolor',\n",
       " '6.9,3.1,4.9,1.5,Iris-versicolor',\n",
       " '5.5,2.3,4.0,1.3,Iris-versicolor',\n",
       " '6.5,2.8,4.6,1.5,Iris-versicolor',\n",
       " '5.7,2.8,4.5,1.3,Iris-versicolor',\n",
       " '6.3,3.3,4.7,1.6,Iris-versicolor',\n",
       " '4.9,2.4,3.3,1.0,Iris-versicolor',\n",
       " '6.6,2.9,4.6,1.3,Iris-versicolor',\n",
       " '5.2,2.7,3.9,1.4,Iris-versicolor',\n",
       " '5.0,2.0,3.5,1.0,Iris-versicolor',\n",
       " '5.9,3.0,4.2,1.5,Iris-versicolor',\n",
       " '6.0,2.2,4.0,1.0,Iris-versicolor',\n",
       " '6.1,2.9,4.7,1.4,Iris-versicolor',\n",
       " '5.6,2.9,3.6,1.3,Iris-versicolor',\n",
       " '6.7,3.1,4.4,1.4,Iris-versicolor',\n",
       " '5.6,3.0,4.5,1.5,Iris-versicolor',\n",
       " '5.8,2.7,4.1,1.0,Iris-versicolor',\n",
       " '6.2,2.2,4.5,1.5,Iris-versicolor',\n",
       " '5.6,2.5,3.9,1.1,Iris-versicolor',\n",
       " '5.9,3.2,4.8,1.8,Iris-versicolor',\n",
       " '6.1,2.8,4.0,1.3,Iris-versicolor',\n",
       " '6.3,2.5,4.9,1.5,Iris-versicolor',\n",
       " '6.1,2.8,4.7,1.2,Iris-versicolor',\n",
       " '6.4,2.9,4.3,1.3,Iris-versicolor',\n",
       " '6.6,3.0,4.4,1.4,Iris-versicolor',\n",
       " '6.8,2.8,4.8,1.4,Iris-versicolor',\n",
       " '6.7,3.0,5.0,1.7,Iris-versicolor',\n",
       " '6.0,2.9,4.5,1.5,Iris-versicolor',\n",
       " '5.7,2.6,3.5,1.0,Iris-versicolor',\n",
       " '5.5,2.4,3.8,1.1,Iris-versicolor',\n",
       " '5.5,2.4,3.7,1.0,Iris-versicolor',\n",
       " '5.8,2.7,3.9,1.2,Iris-versicolor',\n",
       " '6.0,2.7,5.1,1.6,Iris-versicolor',\n",
       " '5.4,3.0,4.5,1.5,Iris-versicolor',\n",
       " '6.0,3.4,4.5,1.6,Iris-versicolor',\n",
       " '6.7,3.1,4.7,1.5,Iris-versicolor',\n",
       " '6.3,2.3,4.4,1.3,Iris-versicolor',\n",
       " '5.6,3.0,4.1,1.3,Iris-versicolor',\n",
       " '5.5,2.5,4.0,1.3,Iris-versicolor',\n",
       " '5.5,2.6,4.4,1.2,Iris-versicolor',\n",
       " '6.1,3.0,4.6,1.4,Iris-versicolor',\n",
       " '5.8,2.6,4.0,1.2,Iris-versicolor',\n",
       " '5.0,2.3,3.3,1.0,Iris-versicolor',\n",
       " '5.6,2.7,4.2,1.3,Iris-versicolor',\n",
       " '5.7,3.0,4.2,1.2,Iris-versicolor',\n",
       " '5.7,2.9,4.2,1.3,Iris-versicolor',\n",
       " '6.2,2.9,4.3,1.3,Iris-versicolor',\n",
       " '5.1,2.5,3.0,1.1,Iris-versicolor',\n",
       " '5.7,2.8,4.1,1.3,Iris-versicolor',\n",
       " '6.3,3.3,6.0,2.5,Iris-virginica',\n",
       " '5.8,2.7,5.1,1.9,Iris-virginica',\n",
       " '7.1,3.0,5.9,2.1,Iris-virginica',\n",
       " '6.3,2.9,5.6,1.8,Iris-virginica',\n",
       " '6.5,3.0,5.8,2.2,Iris-virginica',\n",
       " '7.6,3.0,6.6,2.1,Iris-virginica',\n",
       " '4.9,2.5,4.5,1.7,Iris-virginica',\n",
       " '7.3,2.9,6.3,1.8,Iris-virginica',\n",
       " '6.7,2.5,5.8,1.8,Iris-virginica',\n",
       " '7.2,3.6,6.1,2.5,Iris-virginica',\n",
       " '6.5,3.2,5.1,2.0,Iris-virginica',\n",
       " '6.4,2.7,5.3,1.9,Iris-virginica',\n",
       " '6.8,3.0,5.5,2.1,Iris-virginica',\n",
       " '5.7,2.5,5.0,2.0,Iris-virginica',\n",
       " '5.8,2.8,5.1,2.4,Iris-virginica',\n",
       " '6.4,3.2,5.3,2.3,Iris-virginica',\n",
       " '6.5,3.0,5.5,1.8,Iris-virginica',\n",
       " '7.7,3.8,6.7,2.2,Iris-virginica',\n",
       " '7.7,2.6,6.9,2.3,Iris-virginica',\n",
       " '6.0,2.2,5.0,1.5,Iris-virginica',\n",
       " '6.9,3.2,5.7,2.3,Iris-virginica',\n",
       " '5.6,2.8,4.9,2.0,Iris-virginica',\n",
       " '7.7,2.8,6.7,2.0,Iris-virginica',\n",
       " '6.3,2.7,4.9,1.8,Iris-virginica',\n",
       " '6.7,3.3,5.7,2.1,Iris-virginica',\n",
       " '7.2,3.2,6.0,1.8,Iris-virginica',\n",
       " '6.2,2.8,4.8,1.8,Iris-virginica',\n",
       " '6.1,3.0,4.9,1.8,Iris-virginica',\n",
       " '6.4,2.8,5.6,2.1,Iris-virginica',\n",
       " '7.2,3.0,5.8,1.6,Iris-virginica',\n",
       " '7.4,2.8,6.1,1.9,Iris-virginica',\n",
       " '7.9,3.8,6.4,2.0,Iris-virginica',\n",
       " '6.4,2.8,5.6,2.2,Iris-virginica',\n",
       " '6.3,2.8,5.1,1.5,Iris-virginica',\n",
       " '6.1,2.6,5.6,1.4,Iris-virginica',\n",
       " '7.7,3.0,6.1,2.3,Iris-virginica',\n",
       " '6.3,3.4,5.6,2.4,Iris-virginica',\n",
       " '6.4,3.1,5.5,1.8,Iris-virginica',\n",
       " '6.0,3.0,4.8,1.8,Iris-virginica',\n",
       " '6.9,3.1,5.4,2.1,Iris-virginica',\n",
       " '6.7,3.1,5.6,2.4,Iris-virginica',\n",
       " '6.9,3.1,5.1,2.3,Iris-virginica',\n",
       " '5.8,2.7,5.1,1.9,Iris-virginica',\n",
       " '6.8,3.2,5.9,2.3,Iris-virginica',\n",
       " '6.7,3.3,5.7,2.5,Iris-virginica',\n",
       " '6.7,3.0,5.2,2.3,Iris-virginica',\n",
       " '6.3,2.5,5.0,1.9,Iris-virginica',\n",
       " '6.5,3.0,5.2,2.0,Iris-virginica',\n",
       " '6.2,3.4,5.4,2.3,Iris-virginica',\n",
       " '5.9,3.0,5.1,1.8,Iris-virginica',\n",
       " '']"
      ]
     },
     "execution_count": 47,
     "metadata": {},
     "output_type": "execute_result"
    }
   ],
   "source": [
    "# https://stackoverflow.com/a/1393367\n",
    "#List comprehensions\n",
    "\n",
    "url = r'https://archive.ics.uci.edu/ml/machine-learning-databases/iris/iris.data'\n",
    "\n",
    "iris = [line.decode('utf-8').strip() for line in urllib.request.urlopen(url)]\n",
    "\n",
    "iris"
   ]
  },
  {
   "cell_type": "code",
   "execution_count": 48,
   "id": "38b9b3ff",
   "metadata": {},
   "outputs": [],
   "source": [
    "stripIris = re.compile(r'([0-9]\\.[0-9]),([0-9]\\.[0-9]),([0-9]\\.[0-9]),([0-9]\\.[0-9]),Iris-([a-z]+)')"
   ]
  },
  {
   "cell_type": "code",
   "execution_count": 49,
   "id": "944cdb45",
   "metadata": {},
   "outputs": [
    {
     "data": {
      "text/plain": [
       "['setosa,0.2,1.4,3.5,5.1',\n",
       " 'setosa,0.2,1.4,3.0,4.9',\n",
       " 'setosa,0.2,1.3,3.2,4.7',\n",
       " 'setosa,0.2,1.5,3.1,4.6',\n",
       " 'setosa,0.2,1.4,3.6,5.0',\n",
       " 'setosa,0.4,1.7,3.9,5.4',\n",
       " 'setosa,0.3,1.4,3.4,4.6',\n",
       " 'setosa,0.2,1.5,3.4,5.0',\n",
       " 'setosa,0.2,1.4,2.9,4.4',\n",
       " 'setosa,0.1,1.5,3.1,4.9',\n",
       " 'setosa,0.2,1.5,3.7,5.4',\n",
       " 'setosa,0.2,1.6,3.4,4.8',\n",
       " 'setosa,0.1,1.4,3.0,4.8',\n",
       " 'setosa,0.1,1.1,3.0,4.3',\n",
       " 'setosa,0.2,1.2,4.0,5.8',\n",
       " 'setosa,0.4,1.5,4.4,5.7',\n",
       " 'setosa,0.4,1.3,3.9,5.4',\n",
       " 'setosa,0.3,1.4,3.5,5.1',\n",
       " 'setosa,0.3,1.7,3.8,5.7',\n",
       " 'setosa,0.3,1.5,3.8,5.1',\n",
       " 'setosa,0.2,1.7,3.4,5.4',\n",
       " 'setosa,0.4,1.5,3.7,5.1',\n",
       " 'setosa,0.2,1.0,3.6,4.6',\n",
       " 'setosa,0.5,1.7,3.3,5.1',\n",
       " 'setosa,0.2,1.9,3.4,4.8',\n",
       " 'setosa,0.2,1.6,3.0,5.0',\n",
       " 'setosa,0.4,1.6,3.4,5.0',\n",
       " 'setosa,0.2,1.5,3.5,5.2',\n",
       " 'setosa,0.2,1.4,3.4,5.2',\n",
       " 'setosa,0.2,1.6,3.2,4.7',\n",
       " 'setosa,0.2,1.6,3.1,4.8',\n",
       " 'setosa,0.4,1.5,3.4,5.4',\n",
       " 'setosa,0.1,1.5,4.1,5.2',\n",
       " 'setosa,0.2,1.4,4.2,5.5',\n",
       " 'setosa,0.1,1.5,3.1,4.9',\n",
       " 'setosa,0.2,1.2,3.2,5.0',\n",
       " 'setosa,0.2,1.3,3.5,5.5',\n",
       " 'setosa,0.1,1.5,3.1,4.9',\n",
       " 'setosa,0.2,1.3,3.0,4.4',\n",
       " 'setosa,0.2,1.5,3.4,5.1',\n",
       " 'setosa,0.3,1.3,3.5,5.0',\n",
       " 'setosa,0.3,1.3,2.3,4.5',\n",
       " 'setosa,0.2,1.3,3.2,4.4',\n",
       " 'setosa,0.6,1.6,3.5,5.0',\n",
       " 'setosa,0.4,1.9,3.8,5.1',\n",
       " 'setosa,0.3,1.4,3.0,4.8',\n",
       " 'setosa,0.2,1.6,3.8,5.1',\n",
       " 'setosa,0.2,1.4,3.2,4.6',\n",
       " 'setosa,0.2,1.5,3.7,5.3',\n",
       " 'setosa,0.2,1.4,3.3,5.0',\n",
       " 'versicolor,1.4,4.7,3.2,7.0',\n",
       " 'versicolor,1.5,4.5,3.2,6.4',\n",
       " 'versicolor,1.5,4.9,3.1,6.9',\n",
       " 'versicolor,1.3,4.0,2.3,5.5',\n",
       " 'versicolor,1.5,4.6,2.8,6.5',\n",
       " 'versicolor,1.3,4.5,2.8,5.7',\n",
       " 'versicolor,1.6,4.7,3.3,6.3',\n",
       " 'versicolor,1.0,3.3,2.4,4.9',\n",
       " 'versicolor,1.3,4.6,2.9,6.6',\n",
       " 'versicolor,1.4,3.9,2.7,5.2',\n",
       " 'versicolor,1.0,3.5,2.0,5.0',\n",
       " 'versicolor,1.5,4.2,3.0,5.9',\n",
       " 'versicolor,1.0,4.0,2.2,6.0',\n",
       " 'versicolor,1.4,4.7,2.9,6.1',\n",
       " 'versicolor,1.3,3.6,2.9,5.6',\n",
       " 'versicolor,1.4,4.4,3.1,6.7',\n",
       " 'versicolor,1.5,4.5,3.0,5.6',\n",
       " 'versicolor,1.0,4.1,2.7,5.8',\n",
       " 'versicolor,1.5,4.5,2.2,6.2',\n",
       " 'versicolor,1.1,3.9,2.5,5.6',\n",
       " 'versicolor,1.8,4.8,3.2,5.9',\n",
       " 'versicolor,1.3,4.0,2.8,6.1',\n",
       " 'versicolor,1.5,4.9,2.5,6.3',\n",
       " 'versicolor,1.2,4.7,2.8,6.1',\n",
       " 'versicolor,1.3,4.3,2.9,6.4',\n",
       " 'versicolor,1.4,4.4,3.0,6.6',\n",
       " 'versicolor,1.4,4.8,2.8,6.8',\n",
       " 'versicolor,1.7,5.0,3.0,6.7',\n",
       " 'versicolor,1.5,4.5,2.9,6.0',\n",
       " 'versicolor,1.0,3.5,2.6,5.7',\n",
       " 'versicolor,1.1,3.8,2.4,5.5',\n",
       " 'versicolor,1.0,3.7,2.4,5.5',\n",
       " 'versicolor,1.2,3.9,2.7,5.8',\n",
       " 'versicolor,1.6,5.1,2.7,6.0',\n",
       " 'versicolor,1.5,4.5,3.0,5.4',\n",
       " 'versicolor,1.6,4.5,3.4,6.0',\n",
       " 'versicolor,1.5,4.7,3.1,6.7',\n",
       " 'versicolor,1.3,4.4,2.3,6.3',\n",
       " 'versicolor,1.3,4.1,3.0,5.6',\n",
       " 'versicolor,1.3,4.0,2.5,5.5',\n",
       " 'versicolor,1.2,4.4,2.6,5.5',\n",
       " 'versicolor,1.4,4.6,3.0,6.1',\n",
       " 'versicolor,1.2,4.0,2.6,5.8',\n",
       " 'versicolor,1.0,3.3,2.3,5.0',\n",
       " 'versicolor,1.3,4.2,2.7,5.6',\n",
       " 'versicolor,1.2,4.2,3.0,5.7',\n",
       " 'versicolor,1.3,4.2,2.9,5.7',\n",
       " 'versicolor,1.3,4.3,2.9,6.2',\n",
       " 'versicolor,1.1,3.0,2.5,5.1',\n",
       " 'versicolor,1.3,4.1,2.8,5.7',\n",
       " 'virginica,2.5,6.0,3.3,6.3',\n",
       " 'virginica,1.9,5.1,2.7,5.8',\n",
       " 'virginica,2.1,5.9,3.0,7.1',\n",
       " 'virginica,1.8,5.6,2.9,6.3',\n",
       " 'virginica,2.2,5.8,3.0,6.5',\n",
       " 'virginica,2.1,6.6,3.0,7.6',\n",
       " 'virginica,1.7,4.5,2.5,4.9',\n",
       " 'virginica,1.8,6.3,2.9,7.3',\n",
       " 'virginica,1.8,5.8,2.5,6.7',\n",
       " 'virginica,2.5,6.1,3.6,7.2',\n",
       " 'virginica,2.0,5.1,3.2,6.5',\n",
       " 'virginica,1.9,5.3,2.7,6.4',\n",
       " 'virginica,2.1,5.5,3.0,6.8',\n",
       " 'virginica,2.0,5.0,2.5,5.7',\n",
       " 'virginica,2.4,5.1,2.8,5.8',\n",
       " 'virginica,2.3,5.3,3.2,6.4',\n",
       " 'virginica,1.8,5.5,3.0,6.5',\n",
       " 'virginica,2.2,6.7,3.8,7.7',\n",
       " 'virginica,2.3,6.9,2.6,7.7',\n",
       " 'virginica,1.5,5.0,2.2,6.0',\n",
       " 'virginica,2.3,5.7,3.2,6.9',\n",
       " 'virginica,2.0,4.9,2.8,5.6',\n",
       " 'virginica,2.0,6.7,2.8,7.7',\n",
       " 'virginica,1.8,4.9,2.7,6.3',\n",
       " 'virginica,2.1,5.7,3.3,6.7',\n",
       " 'virginica,1.8,6.0,3.2,7.2',\n",
       " 'virginica,1.8,4.8,2.8,6.2',\n",
       " 'virginica,1.8,4.9,3.0,6.1',\n",
       " 'virginica,2.1,5.6,2.8,6.4',\n",
       " 'virginica,1.6,5.8,3.0,7.2',\n",
       " 'virginica,1.9,6.1,2.8,7.4',\n",
       " 'virginica,2.0,6.4,3.8,7.9',\n",
       " 'virginica,2.2,5.6,2.8,6.4',\n",
       " 'virginica,1.5,5.1,2.8,6.3',\n",
       " 'virginica,1.4,5.6,2.6,6.1',\n",
       " 'virginica,2.3,6.1,3.0,7.7',\n",
       " 'virginica,2.4,5.6,3.4,6.3',\n",
       " 'virginica,1.8,5.5,3.1,6.4',\n",
       " 'virginica,1.8,4.8,3.0,6.0',\n",
       " 'virginica,2.1,5.4,3.1,6.9',\n",
       " 'virginica,2.4,5.6,3.1,6.7',\n",
       " 'virginica,2.3,5.1,3.1,6.9',\n",
       " 'virginica,1.9,5.1,2.7,5.8',\n",
       " 'virginica,2.3,5.9,3.2,6.8',\n",
       " 'virginica,2.5,5.7,3.3,6.7',\n",
       " 'virginica,2.3,5.2,3.0,6.7',\n",
       " 'virginica,1.9,5.0,2.5,6.3',\n",
       " 'virginica,2.0,5.2,3.0,6.5',\n",
       " 'virginica,2.3,5.4,3.4,6.2',\n",
       " 'virginica,1.8,5.1,3.0,5.9']"
      ]
     },
     "execution_count": 49,
     "metadata": {},
     "output_type": "execute_result"
    }
   ],
   "source": [
    "[stripIris.sub(r'\\5,\\4,\\3,\\2,\\1', line) for line in iris if line]\n"
   ]
  },
  {
   "cell_type": "code",
   "execution_count": 75,
   "id": "88991403",
   "metadata": {},
   "outputs": [],
   "source": [
    "test = [strip_iris.sub(r'\\5,\\4,\\3,\\2,\\1', line) for line in iris if line]"
   ]
  },
  {
   "cell_type": "code",
   "execution_count": 76,
   "id": "8102acdb",
   "metadata": {},
   "outputs": [],
   "source": [
    "out = [x.upper() for x in test]"
   ]
  },
  {
   "cell_type": "code",
   "execution_count": 78,
   "id": "d6b05647",
   "metadata": {},
   "outputs": [
    {
     "name": "stdout",
     "output_type": "stream",
     "text": [
      "['SETOSA,0.2,1.4,3.5,5.1', 'SETOSA,0.2,1.4,3.0,4.9', 'SETOSA,0.2,1.3,3.2,4.7', 'SETOSA,0.2,1.5,3.1,4.6', 'SETOSA,0.2,1.4,3.6,5.0', 'SETOSA,0.4,1.7,3.9,5.4', 'SETOSA,0.3,1.4,3.4,4.6', 'SETOSA,0.2,1.5,3.4,5.0', 'SETOSA,0.2,1.4,2.9,4.4', 'SETOSA,0.1,1.5,3.1,4.9', 'SETOSA,0.2,1.5,3.7,5.4', 'SETOSA,0.2,1.6,3.4,4.8', 'SETOSA,0.1,1.4,3.0,4.8', 'SETOSA,0.1,1.1,3.0,4.3', 'SETOSA,0.2,1.2,4.0,5.8', 'SETOSA,0.4,1.5,4.4,5.7', 'SETOSA,0.4,1.3,3.9,5.4', 'SETOSA,0.3,1.4,3.5,5.1', 'SETOSA,0.3,1.7,3.8,5.7', 'SETOSA,0.3,1.5,3.8,5.1', 'SETOSA,0.2,1.7,3.4,5.4', 'SETOSA,0.4,1.5,3.7,5.1', 'SETOSA,0.2,1.0,3.6,4.6', 'SETOSA,0.5,1.7,3.3,5.1', 'SETOSA,0.2,1.9,3.4,4.8', 'SETOSA,0.2,1.6,3.0,5.0', 'SETOSA,0.4,1.6,3.4,5.0', 'SETOSA,0.2,1.5,3.5,5.2', 'SETOSA,0.2,1.4,3.4,5.2', 'SETOSA,0.2,1.6,3.2,4.7', 'SETOSA,0.2,1.6,3.1,4.8', 'SETOSA,0.4,1.5,3.4,5.4', 'SETOSA,0.1,1.5,4.1,5.2', 'SETOSA,0.2,1.4,4.2,5.5', 'SETOSA,0.1,1.5,3.1,4.9', 'SETOSA,0.2,1.2,3.2,5.0', 'SETOSA,0.2,1.3,3.5,5.5', 'SETOSA,0.1,1.5,3.1,4.9', 'SETOSA,0.2,1.3,3.0,4.4', 'SETOSA,0.2,1.5,3.4,5.1', 'SETOSA,0.3,1.3,3.5,5.0', 'SETOSA,0.3,1.3,2.3,4.5', 'SETOSA,0.2,1.3,3.2,4.4', 'SETOSA,0.6,1.6,3.5,5.0', 'SETOSA,0.4,1.9,3.8,5.1', 'SETOSA,0.3,1.4,3.0,4.8', 'SETOSA,0.2,1.6,3.8,5.1', 'SETOSA,0.2,1.4,3.2,4.6', 'SETOSA,0.2,1.5,3.7,5.3', 'SETOSA,0.2,1.4,3.3,5.0', 'VERSICOLOR,1.4,4.7,3.2,7.0', 'VERSICOLOR,1.5,4.5,3.2,6.4', 'VERSICOLOR,1.5,4.9,3.1,6.9', 'VERSICOLOR,1.3,4.0,2.3,5.5', 'VERSICOLOR,1.5,4.6,2.8,6.5', 'VERSICOLOR,1.3,4.5,2.8,5.7', 'VERSICOLOR,1.6,4.7,3.3,6.3', 'VERSICOLOR,1.0,3.3,2.4,4.9', 'VERSICOLOR,1.3,4.6,2.9,6.6', 'VERSICOLOR,1.4,3.9,2.7,5.2', 'VERSICOLOR,1.0,3.5,2.0,5.0', 'VERSICOLOR,1.5,4.2,3.0,5.9', 'VERSICOLOR,1.0,4.0,2.2,6.0', 'VERSICOLOR,1.4,4.7,2.9,6.1', 'VERSICOLOR,1.3,3.6,2.9,5.6', 'VERSICOLOR,1.4,4.4,3.1,6.7', 'VERSICOLOR,1.5,4.5,3.0,5.6', 'VERSICOLOR,1.0,4.1,2.7,5.8', 'VERSICOLOR,1.5,4.5,2.2,6.2', 'VERSICOLOR,1.1,3.9,2.5,5.6', 'VERSICOLOR,1.8,4.8,3.2,5.9', 'VERSICOLOR,1.3,4.0,2.8,6.1', 'VERSICOLOR,1.5,4.9,2.5,6.3', 'VERSICOLOR,1.2,4.7,2.8,6.1', 'VERSICOLOR,1.3,4.3,2.9,6.4', 'VERSICOLOR,1.4,4.4,3.0,6.6', 'VERSICOLOR,1.4,4.8,2.8,6.8', 'VERSICOLOR,1.7,5.0,3.0,6.7', 'VERSICOLOR,1.5,4.5,2.9,6.0', 'VERSICOLOR,1.0,3.5,2.6,5.7', 'VERSICOLOR,1.1,3.8,2.4,5.5', 'VERSICOLOR,1.0,3.7,2.4,5.5', 'VERSICOLOR,1.2,3.9,2.7,5.8', 'VERSICOLOR,1.6,5.1,2.7,6.0', 'VERSICOLOR,1.5,4.5,3.0,5.4', 'VERSICOLOR,1.6,4.5,3.4,6.0', 'VERSICOLOR,1.5,4.7,3.1,6.7', 'VERSICOLOR,1.3,4.4,2.3,6.3', 'VERSICOLOR,1.3,4.1,3.0,5.6', 'VERSICOLOR,1.3,4.0,2.5,5.5', 'VERSICOLOR,1.2,4.4,2.6,5.5', 'VERSICOLOR,1.4,4.6,3.0,6.1', 'VERSICOLOR,1.2,4.0,2.6,5.8', 'VERSICOLOR,1.0,3.3,2.3,5.0', 'VERSICOLOR,1.3,4.2,2.7,5.6', 'VERSICOLOR,1.2,4.2,3.0,5.7', 'VERSICOLOR,1.3,4.2,2.9,5.7', 'VERSICOLOR,1.3,4.3,2.9,6.2', 'VERSICOLOR,1.1,3.0,2.5,5.1', 'VERSICOLOR,1.3,4.1,2.8,5.7', 'VIRGINICA,2.5,6.0,3.3,6.3', 'VIRGINICA,1.9,5.1,2.7,5.8', 'VIRGINICA,2.1,5.9,3.0,7.1', 'VIRGINICA,1.8,5.6,2.9,6.3', 'VIRGINICA,2.2,5.8,3.0,6.5', 'VIRGINICA,2.1,6.6,3.0,7.6', 'VIRGINICA,1.7,4.5,2.5,4.9', 'VIRGINICA,1.8,6.3,2.9,7.3', 'VIRGINICA,1.8,5.8,2.5,6.7', 'VIRGINICA,2.5,6.1,3.6,7.2', 'VIRGINICA,2.0,5.1,3.2,6.5', 'VIRGINICA,1.9,5.3,2.7,6.4', 'VIRGINICA,2.1,5.5,3.0,6.8', 'VIRGINICA,2.0,5.0,2.5,5.7', 'VIRGINICA,2.4,5.1,2.8,5.8', 'VIRGINICA,2.3,5.3,3.2,6.4', 'VIRGINICA,1.8,5.5,3.0,6.5', 'VIRGINICA,2.2,6.7,3.8,7.7', 'VIRGINICA,2.3,6.9,2.6,7.7', 'VIRGINICA,1.5,5.0,2.2,6.0', 'VIRGINICA,2.3,5.7,3.2,6.9', 'VIRGINICA,2.0,4.9,2.8,5.6', 'VIRGINICA,2.0,6.7,2.8,7.7', 'VIRGINICA,1.8,4.9,2.7,6.3', 'VIRGINICA,2.1,5.7,3.3,6.7', 'VIRGINICA,1.8,6.0,3.2,7.2', 'VIRGINICA,1.8,4.8,2.8,6.2', 'VIRGINICA,1.8,4.9,3.0,6.1', 'VIRGINICA,2.1,5.6,2.8,6.4', 'VIRGINICA,1.6,5.8,3.0,7.2', 'VIRGINICA,1.9,6.1,2.8,7.4', 'VIRGINICA,2.0,6.4,3.8,7.9', 'VIRGINICA,2.2,5.6,2.8,6.4', 'VIRGINICA,1.5,5.1,2.8,6.3', 'VIRGINICA,1.4,5.6,2.6,6.1', 'VIRGINICA,2.3,6.1,3.0,7.7', 'VIRGINICA,2.4,5.6,3.4,6.3', 'VIRGINICA,1.8,5.5,3.1,6.4', 'VIRGINICA,1.8,4.8,3.0,6.0', 'VIRGINICA,2.1,5.4,3.1,6.9', 'VIRGINICA,2.4,5.6,3.1,6.7', 'VIRGINICA,2.3,5.1,3.1,6.9', 'VIRGINICA,1.9,5.1,2.7,5.8', 'VIRGINICA,2.3,5.9,3.2,6.8', 'VIRGINICA,2.5,5.7,3.3,6.7', 'VIRGINICA,2.3,5.2,3.0,6.7', 'VIRGINICA,1.9,5.0,2.5,6.3', 'VIRGINICA,2.0,5.2,3.0,6.5', 'VIRGINICA,2.3,5.4,3.4,6.2', 'VIRGINICA,1.8,5.1,3.0,5.9']\n"
     ]
    }
   ],
   "source": [
    "print(out)"
   ]
  },
  {
   "cell_type": "code",
   "execution_count": 86,
   "id": "f501cf04",
   "metadata": {},
   "outputs": [],
   "source": [
    "for line in list(test):\n",
    "    output = line.title()"
   ]
  },
  {
   "cell_type": "code",
   "execution_count": 84,
   "id": "a91ef024",
   "metadata": {},
   "outputs": [
    {
     "name": "stdout",
     "output_type": "stream",
     "text": [
      "Virginica,1.8,5.1,3.0,5.9\n"
     ]
    }
   ],
   "source": [
    "print(output)"
   ]
  },
  {
   "cell_type": "code",
   "execution_count": 89,
   "id": "db9c24ca",
   "metadata": {},
   "outputs": [
    {
     "name": "stdout",
     "output_type": "stream",
     "text": [
      "['V', 'i', 'r', 'g', 'i', 'n', 'i', 'c', 'a', ',', '1', '.', '8', ',', '5', '.', '1', ',', '3', '.', '0', ',', '5', '.', '9']\n"
     ]
    }
   ],
   "source": [
    "print(list(output))"
   ]
  },
  {
   "cell_type": "code",
   "execution_count": 87,
   "id": "39f7ec5e",
   "metadata": {},
   "outputs": [],
   "source": [
    "from string import capwords"
   ]
  },
  {
   "cell_type": "code",
   "execution_count": 88,
   "id": "fa3ca4f7",
   "metadata": {},
   "outputs": [
    {
     "name": "stdout",
     "output_type": "stream",
     "text": [
      "['Setosa,0.2,1.4,3.5,5.1', 'Setosa,0.2,1.4,3.0,4.9', 'Setosa,0.2,1.3,3.2,4.7', 'Setosa,0.2,1.5,3.1,4.6', 'Setosa,0.2,1.4,3.6,5.0', 'Setosa,0.4,1.7,3.9,5.4', 'Setosa,0.3,1.4,3.4,4.6', 'Setosa,0.2,1.5,3.4,5.0', 'Setosa,0.2,1.4,2.9,4.4', 'Setosa,0.1,1.5,3.1,4.9', 'Setosa,0.2,1.5,3.7,5.4', 'Setosa,0.2,1.6,3.4,4.8', 'Setosa,0.1,1.4,3.0,4.8', 'Setosa,0.1,1.1,3.0,4.3', 'Setosa,0.2,1.2,4.0,5.8', 'Setosa,0.4,1.5,4.4,5.7', 'Setosa,0.4,1.3,3.9,5.4', 'Setosa,0.3,1.4,3.5,5.1', 'Setosa,0.3,1.7,3.8,5.7', 'Setosa,0.3,1.5,3.8,5.1', 'Setosa,0.2,1.7,3.4,5.4', 'Setosa,0.4,1.5,3.7,5.1', 'Setosa,0.2,1.0,3.6,4.6', 'Setosa,0.5,1.7,3.3,5.1', 'Setosa,0.2,1.9,3.4,4.8', 'Setosa,0.2,1.6,3.0,5.0', 'Setosa,0.4,1.6,3.4,5.0', 'Setosa,0.2,1.5,3.5,5.2', 'Setosa,0.2,1.4,3.4,5.2', 'Setosa,0.2,1.6,3.2,4.7', 'Setosa,0.2,1.6,3.1,4.8', 'Setosa,0.4,1.5,3.4,5.4', 'Setosa,0.1,1.5,4.1,5.2', 'Setosa,0.2,1.4,4.2,5.5', 'Setosa,0.1,1.5,3.1,4.9', 'Setosa,0.2,1.2,3.2,5.0', 'Setosa,0.2,1.3,3.5,5.5', 'Setosa,0.1,1.5,3.1,4.9', 'Setosa,0.2,1.3,3.0,4.4', 'Setosa,0.2,1.5,3.4,5.1', 'Setosa,0.3,1.3,3.5,5.0', 'Setosa,0.3,1.3,2.3,4.5', 'Setosa,0.2,1.3,3.2,4.4', 'Setosa,0.6,1.6,3.5,5.0', 'Setosa,0.4,1.9,3.8,5.1', 'Setosa,0.3,1.4,3.0,4.8', 'Setosa,0.2,1.6,3.8,5.1', 'Setosa,0.2,1.4,3.2,4.6', 'Setosa,0.2,1.5,3.7,5.3', 'Setosa,0.2,1.4,3.3,5.0', 'Versicolor,1.4,4.7,3.2,7.0', 'Versicolor,1.5,4.5,3.2,6.4', 'Versicolor,1.5,4.9,3.1,6.9', 'Versicolor,1.3,4.0,2.3,5.5', 'Versicolor,1.5,4.6,2.8,6.5', 'Versicolor,1.3,4.5,2.8,5.7', 'Versicolor,1.6,4.7,3.3,6.3', 'Versicolor,1.0,3.3,2.4,4.9', 'Versicolor,1.3,4.6,2.9,6.6', 'Versicolor,1.4,3.9,2.7,5.2', 'Versicolor,1.0,3.5,2.0,5.0', 'Versicolor,1.5,4.2,3.0,5.9', 'Versicolor,1.0,4.0,2.2,6.0', 'Versicolor,1.4,4.7,2.9,6.1', 'Versicolor,1.3,3.6,2.9,5.6', 'Versicolor,1.4,4.4,3.1,6.7', 'Versicolor,1.5,4.5,3.0,5.6', 'Versicolor,1.0,4.1,2.7,5.8', 'Versicolor,1.5,4.5,2.2,6.2', 'Versicolor,1.1,3.9,2.5,5.6', 'Versicolor,1.8,4.8,3.2,5.9', 'Versicolor,1.3,4.0,2.8,6.1', 'Versicolor,1.5,4.9,2.5,6.3', 'Versicolor,1.2,4.7,2.8,6.1', 'Versicolor,1.3,4.3,2.9,6.4', 'Versicolor,1.4,4.4,3.0,6.6', 'Versicolor,1.4,4.8,2.8,6.8', 'Versicolor,1.7,5.0,3.0,6.7', 'Versicolor,1.5,4.5,2.9,6.0', 'Versicolor,1.0,3.5,2.6,5.7', 'Versicolor,1.1,3.8,2.4,5.5', 'Versicolor,1.0,3.7,2.4,5.5', 'Versicolor,1.2,3.9,2.7,5.8', 'Versicolor,1.6,5.1,2.7,6.0', 'Versicolor,1.5,4.5,3.0,5.4', 'Versicolor,1.6,4.5,3.4,6.0', 'Versicolor,1.5,4.7,3.1,6.7', 'Versicolor,1.3,4.4,2.3,6.3', 'Versicolor,1.3,4.1,3.0,5.6', 'Versicolor,1.3,4.0,2.5,5.5', 'Versicolor,1.2,4.4,2.6,5.5', 'Versicolor,1.4,4.6,3.0,6.1', 'Versicolor,1.2,4.0,2.6,5.8', 'Versicolor,1.0,3.3,2.3,5.0', 'Versicolor,1.3,4.2,2.7,5.6', 'Versicolor,1.2,4.2,3.0,5.7', 'Versicolor,1.3,4.2,2.9,5.7', 'Versicolor,1.3,4.3,2.9,6.2', 'Versicolor,1.1,3.0,2.5,5.1', 'Versicolor,1.3,4.1,2.8,5.7', 'Virginica,2.5,6.0,3.3,6.3', 'Virginica,1.9,5.1,2.7,5.8', 'Virginica,2.1,5.9,3.0,7.1', 'Virginica,1.8,5.6,2.9,6.3', 'Virginica,2.2,5.8,3.0,6.5', 'Virginica,2.1,6.6,3.0,7.6', 'Virginica,1.7,4.5,2.5,4.9', 'Virginica,1.8,6.3,2.9,7.3', 'Virginica,1.8,5.8,2.5,6.7', 'Virginica,2.5,6.1,3.6,7.2', 'Virginica,2.0,5.1,3.2,6.5', 'Virginica,1.9,5.3,2.7,6.4', 'Virginica,2.1,5.5,3.0,6.8', 'Virginica,2.0,5.0,2.5,5.7', 'Virginica,2.4,5.1,2.8,5.8', 'Virginica,2.3,5.3,3.2,6.4', 'Virginica,1.8,5.5,3.0,6.5', 'Virginica,2.2,6.7,3.8,7.7', 'Virginica,2.3,6.9,2.6,7.7', 'Virginica,1.5,5.0,2.2,6.0', 'Virginica,2.3,5.7,3.2,6.9', 'Virginica,2.0,4.9,2.8,5.6', 'Virginica,2.0,6.7,2.8,7.7', 'Virginica,1.8,4.9,2.7,6.3', 'Virginica,2.1,5.7,3.3,6.7', 'Virginica,1.8,6.0,3.2,7.2', 'Virginica,1.8,4.8,2.8,6.2', 'Virginica,1.8,4.9,3.0,6.1', 'Virginica,2.1,5.6,2.8,6.4', 'Virginica,1.6,5.8,3.0,7.2', 'Virginica,1.9,6.1,2.8,7.4', 'Virginica,2.0,6.4,3.8,7.9', 'Virginica,2.2,5.6,2.8,6.4', 'Virginica,1.5,5.1,2.8,6.3', 'Virginica,1.4,5.6,2.6,6.1', 'Virginica,2.3,6.1,3.0,7.7', 'Virginica,2.4,5.6,3.4,6.3', 'Virginica,1.8,5.5,3.1,6.4', 'Virginica,1.8,4.8,3.0,6.0', 'Virginica,2.1,5.4,3.1,6.9', 'Virginica,2.4,5.6,3.1,6.7', 'Virginica,2.3,5.1,3.1,6.9', 'Virginica,1.9,5.1,2.7,5.8', 'Virginica,2.3,5.9,3.2,6.8', 'Virginica,2.5,5.7,3.3,6.7', 'Virginica,2.3,5.2,3.0,6.7', 'Virginica,1.9,5.0,2.5,6.3', 'Virginica,2.0,5.2,3.0,6.5', 'Virginica,2.3,5.4,3.4,6.2', 'Virginica,1.8,5.1,3.0,5.9']\n"
     ]
    }
   ],
   "source": [
    "result = [item.capitalize() for item in test]\n",
    "print(result)"
   ]
  },
  {
   "cell_type": "markdown",
   "id": "39de2188",
   "metadata": {},
   "source": [
    "## 3. References "
   ]
  },
  {
   "cell_type": "code",
   "execution_count": null,
   "id": "439808ea",
   "metadata": {},
   "outputs": [],
   "source": []
  }
 ],
 "metadata": {
  "kernelspec": {
   "display_name": "Python 3 (ipykernel)",
   "language": "python",
   "name": "python3"
  },
  "language_info": {
   "codemirror_mode": {
    "name": "ipython",
    "version": 3
   },
   "file_extension": ".py",
   "mimetype": "text/x-python",
   "name": "python",
   "nbconvert_exporter": "python",
   "pygments_lexer": "ipython3",
   "version": "3.11.0"
  }
 },
 "nbformat": 4,
 "nbformat_minor": 5
}
