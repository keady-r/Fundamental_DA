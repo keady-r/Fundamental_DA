{
 "cells": [
  {
   "cell_type": "markdown",
   "id": "887c8013",
   "metadata": {},
   "source": [
    "<a><img src=\"../images/ATUlogo.png\"></a>\n",
    "# Title : Randomness Exercise 1"
   ]
  },
  {
   "cell_type": "markdown",
   "id": "f45387d7",
   "metadata": {},
   "source": [
    "### 1.  Overview "
   ]
  },
  {
   "cell_type": "markdown",
   "id": "21a90a6e",
   "metadata": {},
   "source": [
    "It is somewhat interesting that (5 * 4 * 3 * 2 * 1) perfectly divides (10 * 9 * 8 * 7 * 6) - there's no remainder.\n",
    "\n",
    "If we only wanted exactly four heads as opposed to five, the equivalent calculation would be (10 * 9 * 8 * 7) / (4 * 3 * 2 * 1).\n",
    "\n",
    "i) Does that evenly divide too? \n",
    "\n",
    "ii) What is the formula in general?\n",
    "\n",
    "iii) Does it always come out as a positive whole number?"
   ]
  },
  {
   "cell_type": "markdown",
   "id": "2c2eb570",
   "metadata": {},
   "source": [
    "### 2. Calculations"
   ]
  },
  {
   "cell_type": "markdown",
   "id": "e6bcb2c3",
   "metadata": {},
   "source": [
    "###### Question 1 - Does that evenly divide too? "
   ]
  },
  {
   "cell_type": "markdown",
   "id": "ece35357",
   "metadata": {},
   "source": [
    "Answer : Yes, there are no remainders"
   ]
  },
  {
   "cell_type": "code",
   "execution_count": 1,
   "id": "95536322",
   "metadata": {},
   "outputs": [
    {
     "data": {
      "text/plain": [
       "210.0"
      ]
     },
     "execution_count": 1,
     "metadata": {},
     "output_type": "execute_result"
    }
   ],
   "source": [
    "#Calculation\n",
    "(10 * 9 * 8 * 7) / (4 * 3 * 2 * 1)"
   ]
  },
  {
   "cell_type": "markdown",
   "id": "8317662c",
   "metadata": {},
   "source": [
    "###### Question 2 - What is the formula in general?"
   ]
  },
  {
   "cell_type": "markdown",
   "id": "cfb5c832",
   "metadata": {},
   "source": [
    "The formula used to determine the probabilty of the outcome of a coin flip is defined as a bionomial distribution formula. Where the outcome is one of two, mutually exclusive options, success or failure (heads or tails). The following bionomial distribution formula is used to determine 'x' the number of successful outcomes in 'N' the number of trails with the probability of success on a single trail labelled 'p'. [1]\n",
    "\n",
    "<a><img src=\"../images/BinomialProbability.png\"></a>\n",
    "\n",
    "In the example above 10 was the number of trials (N = 10), x is equal to 4 (success of 4 heads). \n",
    "Therefore:\n",
    "    \n",
    "            => N! = 10*9*8*7*6*5*4*3*2*1\n",
    "            => N! = 362800\n",
    "            \n",
    "            => x!(n-x)! = 4*3*2*1(6*5*4*3*2*1)\n",
    "            => x!(n-x)! = 24 * 720\n",
    "            => x!(n-x)! = 17280\n",
    "            \n",
    "            => N!/x!(n-x)! = 362800/17280\n",
    "            => N!/x!(n-x)! = 210.0\n",
    "            \n",
    "            or\n",
    "            \n",
    "            => N! = 10*9*8*7*6*5*4*3*2*1\n",
    "            => x!(n-x)! = 4*3*2*1(6*5*4*3*2*1)\n",
    "            => 10*9*8*7*6*5*4*3*2*1/4*3*2*1(6*5*4*3*2*1) ... (6*5*4*3*2*1) cancels out \n",
    "            => Final Results = (10 * 9 * 8 * 7) / (4 * 3 * 2 * 1) i.e. 210.0\n"
   ]
  },
  {
   "cell_type": "code",
   "execution_count": 2,
   "id": "7c6c2a3f",
   "metadata": {},
   "outputs": [
    {
     "data": {
      "text/plain": [
       "210.0"
      ]
     },
     "execution_count": 2,
     "metadata": {},
     "output_type": "execute_result"
    }
   ],
   "source": [
    "#Calculation\n",
    "\n",
    "#N!= 10*9*8*7*6*5*4*3*2*1\n",
    "N = 10*9*8*7*6*5*4*3*2*1\n",
    "\n",
    "#x!(n-x)! = 4*3*2*1(6*5*4*3*2*1)\n",
    "x = 4*3*2*1\n",
    "n_sub_x = 6*5*4*3*2*1\n",
    "\n",
    "sub_result = (x * n_sub_x)\n",
    "\n",
    "final_result = (N/sub_result)\n",
    "\n",
    "final_result\n"
   ]
  },
  {
   "cell_type": "markdown",
   "id": "42390225",
   "metadata": {},
   "source": [
    "###### Question 3 - Does it always come out as a positive whole number?"
   ]
  },
  {
   "cell_type": "markdown",
   "id": "88d3e4be",
   "metadata": {},
   "source": [
    "As the probability for the binomial distribution is 0.5 for success or failure the outcome will be a positive whole number. [2]"
   ]
  },
  {
   "cell_type": "markdown",
   "id": "0d6a052b",
   "metadata": {},
   "source": [
    "### 3. References \n",
    "1. Binomial Distribution - Explaination and equation. Located here: https://www.itl.nist.gov/div898/handbook/eda/section3/eda366i.htm#:~:text=The%20binomial%20distribution%20is%20used%20to%20obtain%20the%20probability%20of,is%20fixed%20for%20all%20trials.\n",
    "2. Binomial Distribution - Will the outcome be positive whole numbers. Located here - https://www.oreilly.com/library/view/statistics-for-six/0132291959/0132291959_ch05lev2sec3.html"
   ]
  }
 ],
 "metadata": {
  "kernelspec": {
   "display_name": "Python 3 (ipykernel)",
   "language": "python",
   "name": "python3"
  },
  "language_info": {
   "codemirror_mode": {
    "name": "ipython",
    "version": 3
   },
   "file_extension": ".py",
   "mimetype": "text/x-python",
   "name": "python",
   "nbconvert_exporter": "python",
   "pygments_lexer": "ipython3",
   "version": "3.11.0"
  }
 },
 "nbformat": 4,
 "nbformat_minor": 5
}
