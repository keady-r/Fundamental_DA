{
 "cells": [
  {
   "cell_type": "markdown",
   "id": "27fea246",
   "metadata": {},
   "source": [
    "<a><img src=\"../images/ATUlogo.png\"></a>\n",
    "# Exercise 2 - Note that there are the same number of ways to get 4 tails as there to get 4 heads. Explain why this is."
   ]
  },
  {
   "cell_type": "markdown",
   "id": "75f2cfb0",
   "metadata": {},
   "source": [
    "## 1. Overview"
   ]
  },
  {
   "cell_type": "markdown",
   "id": "5a38106e",
   "metadata": {},
   "source": [
    "The probability of obtaining x sucesses in n independent trails where p is the probability of success. As determined in exercise 1 (n!/(x!(n-x)!) is equal to (10*9*8*7)/(4*3*2*1).[3,4]\n",
    "<br>\n",
    "In the example above n=10, x=4, p=0.5\n",
    "\n",
    "<a><img src=\"../images/BinomialProbability.png\"></a>\n",
    "\n",
    "Let's look at the example below [2]\n",
    "<a><img src=\"../images/coin_probability.png\"></a>\n",
    "\n",
    "You can see there's 1 way of getting all heads and 1 way of getting all tails. When it's broken out into a table we can see why the probability of achieving all heads or all tails is the same however let's add each outcome into the formula above to prove this theory. "
   ]
  },
  {
   "cell_type": "markdown",
   "id": "21ddffad",
   "metadata": {},
   "source": [
    "## 2. Calculation  "
   ]
  },
  {
   "cell_type": "code",
   "execution_count": 1,
   "id": "490cff8c",
   "metadata": {},
   "outputs": [],
   "source": [
    "import matplotlib.pyplot as plt\n"
   ]
  },
  {
   "cell_type": "code",
   "execution_count": 2,
   "id": "252fbaea",
   "metadata": {},
   "outputs": [
    {
     "data": {
      "image/png": "[encoded data removed]",
      "text/plain": [
       "<Figure size 640x480 with 1 Axes>"
      ]
     },
     "metadata": {},
     "output_type": "display_data"
    }
   ],
   "source": [
    "four_heads = (10*9*8*7)/(4*3*2*1) # Number of ways of getting 4 heads in 10 flips x being the success of heads = 210\n",
    "three_heads = (10*9*8)/(3*2*1) \n",
    "two_heads = (10*9)/(2*1)\n",
    "one_head = (10)/(1)\n",
    "\n",
    "four_tails = (10*9*8*7)/(4*3*2*1)\n",
    "three_tails = (10*9*8)/(3*2*1) \n",
    "two_tails = (10*9)/(2*1)\n",
    "one_tail = (10)/(1)\n",
    "\n",
    "fig = plt.figure()\n",
    "ax = fig.add_axes([0,0,1,1])\n",
    "columns = ['one_tail','two_tails','three_tails', 'four_tails', 'four_head', 'three_head','two_head', 'one_head']\n",
    "data = [one_tail,two_tails,three_tails, four_tails,four_heads,three_heads,two_heads,one_head]\n",
    "ax.bar(columns, data)\n",
    "plt.show()\n",
    "\n"
   ]
  },
  {
   "cell_type": "code",
   "execution_count": 3,
   "id": "c2aa4b02",
   "metadata": {},
   "outputs": [
    {
     "data": {
      "text/plain": [
       "10.0"
      ]
     },
     "execution_count": 3,
     "metadata": {},
     "output_type": "execute_result"
    }
   ],
   "source": [
    "one_tail"
   ]
  },
  {
   "cell_type": "code",
   "execution_count": 4,
   "id": "a8d0d815",
   "metadata": {},
   "outputs": [
    {
     "name": "stdout",
     "output_type": "stream",
     "text": [
      "\f",
      " The proabaility of getting 4 heads in 10 flips is the number of outcomes/trials i.e 21.0 %\n",
      "\f",
      " The proabaility of getting 3 heads in 10 flips is the number of outcomes/trials i.e 12.0 %\n",
      "\f",
      " The proabaility of getting 2 heads in 10 flips is the number of outcomes/trials i.e 4.5 %\n",
      "\f",
      " The proabaility of getting 1 heads in 10 flips is the number of outcomes/trials i.e 1.0 %\n",
      "\n",
      "_______________________________________________________\n",
      "\n",
      "\f",
      " The proabaility of getting 4 tails in 10 flips is the number of outcomes/trials i.e 21.0 %\n",
      "\f",
      " The proabaility of getting 3 tails in 10 flips is the number of outcomes/trials i.e 12.0 %\n",
      "\f",
      " The proabaility of getting 2 tails in 10 flips is the number of outcomes/trials i.e 4.5 %\n",
      "\f",
      " The proabaility of getting 1 tails in 10 flips is the number of outcomes/trials i.e 1.0 %\n"
     ]
    }
   ],
   "source": [
    "\n",
    "# probability of getting heads from 10 flips\n",
    "\n",
    "print(\"\\f The proabaility of getting 4 heads in 10 flips is the number of outcomes/trials i.e\", 210/10 ,'%')\n",
    "print(\"\\f The proabaility of getting 3 heads in 10 flips is the number of outcomes/trials i.e\", 120/10 ,'%')\n",
    "print(\"\\f The proabaility of getting 2 heads in 10 flips is the number of outcomes/trials i.e\", 45/10 ,'%')\n",
    "print(\"\\f The proabaility of getting 1 heads in 10 flips is the number of outcomes/trials i.e\", 10/10,'%' )\n",
    "\n",
    "\n",
    "\n",
    "#probability of getting tails from 10 flips\n",
    "print(\"\\n_______________________________________________________\\n\")\n",
    "print(\"\\f The proabaility of getting 4 tails in 10 flips is the number of outcomes/trials i.e\", 210/10 ,'%')\n",
    "print(\"\\f The proabaility of getting 3 tails in 10 flips is the number of outcomes/trials i.e\", 120/10 ,'%')\n",
    "print(\"\\f The proabaility of getting 2 tails in 10 flips is the number of outcomes/trials i.e\", 45/10 ,'%')\n",
    "print(\"\\f The proabaility of getting 1 tails in 10 flips is the number of outcomes/trials i.e\", 10/10,'%' )\n"
   ]
  },
  {
   "cell_type": "markdown",
   "id": "1cc93fb0",
   "metadata": {},
   "source": [
    "<b> Conclusion \n",
    "    \n",
    "From the calculations above it is clear that the probability of getting 4 heads or four tails is the same. As all the parameters are the same between both outcomes, 50/50% success or failute rate, both outcomes independent of each other resulting in the same number of potential outcomes. "
   ]
  },
  {
   "cell_type": "markdown",
   "id": "5c9fd325",
   "metadata": {},
   "source": [
    "## 3. References"
   ]
  },
  {
   "cell_type": "markdown",
   "id": "4e6c5b6d",
   "metadata": {},
   "source": [
    "1. Referencing the binomial calculation for calculating probability. https://www.wallstreetmojo.com/binomial-distribution-formula/#:~:text=The%20formula%20to%20calculate%20combinations,known%20as%20the%20Bernoulli%20distribution.\n",
    "2. Theory on coin flip probability. Located here: https://www.fourmilab.ch/rpkp/experiments/statistics.html\n",
    "3. Binomial Distribution - Explaination and equation. Located here: https://www.itl.nist.gov/div898/handbook/eda/section3/eda366i.htm#:~:text=The%20binomial%20distribution%20is%20used%20to%20obtain%20the%20probability%20of,is%20fixed%20for%20all%20trials.\n",
    "4. Binomial Distribution - Will the outcome be positive whole numbers. Located here - https://www.oreilly.com/library/view/statistics-for-six/0132291959/0132291959_ch05lev2sec3.html"
   ]
  }
 ],
 "metadata": {
  "kernelspec": {
   "display_name": "Python 3 (ipykernel)",
   "language": "python",
   "name": "python3"
  },
  "language_info": {
   "codemirror_mode": {
    "name": "ipython",
    "version": 3
   },
   "file_extension": ".py",
   "mimetype": "text/x-python",
   "name": "python",
   "nbconvert_exporter": "python",
   "pygments_lexer": "ipython3",
   "version": "3.11.0"
  }
 },
 "nbformat": 4,
 "nbformat_minor": 5
}
