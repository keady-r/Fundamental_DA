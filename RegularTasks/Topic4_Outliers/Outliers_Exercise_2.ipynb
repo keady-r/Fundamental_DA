{
 "cells": [
  {
   "cell_type": "code",
   "execution_count": null,
   "id": "69d5503f",
   "metadata": {},
   "outputs": [],
   "source": [
    "\n",
    "Exercise 2\n",
    "Remember to do these exercises in your own notebook in your assessment repository.\n",
    "\n",
    "Create box plots for all of the numercial variables in Fisher's Iris Data Set."
   ]
  }
 ],
 "metadata": {
  "kernelspec": {
   "display_name": "Python 3 (ipykernel)",
   "language": "python",
   "name": "python3"
  },
  "language_info": {
   "codemirror_mode": {
    "name": "ipython",
    "version": 3
   },
   "file_extension": ".py",
   "mimetype": "text/x-python",
   "name": "python",
   "nbconvert_exporter": "python",
   "pygments_lexer": "ipython3",
   "version": "3.11.0"
  }
 },
 "nbformat": 4,
 "nbformat_minor": 5
}
