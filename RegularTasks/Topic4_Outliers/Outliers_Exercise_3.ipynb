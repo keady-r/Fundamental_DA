{
 "cells": [
  {
   "cell_type": "markdown",
   "id": "f4396840",
   "metadata": {},
   "source": [
    "<a><img src=\"../images/ATUlogo.png\"></a>\n",
    "\n",
    "# Title: Outliers Exercise 3 - Adapt the above code and plots so that the overall plot is inversely propertional and the individual groups are directly proportional.\n",
    "\n"
   ]
  },
  {
   "cell_type": "markdown",
   "id": "f9d327cf",
   "metadata": {},
   "source": [
    "## 1. Calculations"
   ]
  },
  {
   "cell_type": "code",
   "execution_count": 1,
   "id": "eceab342",
   "metadata": {},
   "outputs": [],
   "source": [
    "import numpy as np\n",
    "import matplotlib.pyplot as plt\n",
    "import scipy.stats as ss"
   ]
  },
  {
   "cell_type": "code",
   "execution_count": null,
   "id": "9549d18b",
   "metadata": {},
   "outputs": [],
   "source": [
    "# Extracted from lecture notes\n",
    "\n",
    "# Create a corresponding series of x&y vectors and add noise.\n",
    "xs = np.array([np.linspace(i, i + 2.0, 20) for i in range(10)])\n",
    "ys = np.array([-1.0 * xs[i] + 2 * i for i in range(len(xs))])\n",
    "ys = ys + np.random.normal(0.0, 1.0, ys.shape)\n",
    "\n",
    "# Create global list of x and y values.\n",
    "x = xs.flatten()\n",
    "y = ys.flatten()\n",
    "\n",
    "# Plot.\n",
    "plt.plot(x, y, '.');\n",
    "\n",
    "# Best fit line slope and y intercept.\n",
    "m, c = np.polyfit(x, y, 1)\n",
    "\n",
    "# Create a steadily increasing x range for plotting.\n",
    "xbestfit = np.linspace(x.min(), x.max(), 1000)\n",
    "\n",
    "# Create corresponding y values form best fit line.\n",
    "ybestfit = m * xbestfit + c\n",
    "# Plot points.\n",
    "plt.plot(x, y, '.')\n",
    "\n",
    "# Plot line.\n",
    "plt.plot(xbestfit, ybestfit);\n",
    "# Plot the same points, but now with a different colour for each range.\n",
    "for i in range(len(xs)):\n",
    "    plt.plot(xs[i], ys[i], '.')\n",
    "# Same plot but with best fit lines for each category.\n",
    "for i in range(len(xs)):\n",
    "    # Plot this category.\n",
    "    plt.plot(xs[i], ys[i], '.')\n",
    "    # Fit line to category.\n",
    "    m, c = np.polyfit(xs[i], ys[i], 1)\n",
    "    # Create steadily increasing x range for plot.\n",
    "    xbestfit = np.linspace(xs[i].min(), xs[i].max(), 50)\n",
    "    # Corresponding y values based on best fit line.\n",
    "    ybestfit = m * xbestfit + c\n",
    "    # Plot best fit line for category.\n",
    "    plt.plot(xbestfit, ybestfit, color='lightgrey');"
   ]
  },
  {
   "cell_type": "code",
   "execution_count": null,
   "id": "0f81a594",
   "metadata": {},
   "outputs": [],
   "source": [
    "# Extracted from lecture notes\n",
    "\n",
    "# Create a corresponding series of x&y vectors.\n",
    "xs = np.array([np.linspace(i, i + 2.0, 20) for i in range(10)])\n",
    "ys = np.array([-1.0 * xs[i] + 2 * i for i in range(len(xs))])\n",
    "ys = ys + np.random.normal(0.0, 1.0, ys.shape)\n",
    "\n",
    "# Create global list of x and y values.\n",
    "x = xs.flatten()\n",
    "y = ys.flatten()\n",
    "\n",
    "# Plot.\n",
    "plt.plot(x, y, '.');\n",
    "\n",
    "# Best fit line slope and y intercept.\n",
    "m, c = np.polyfit(x, y, 1)\n",
    "\n",
    "# Create a steadily increasing x range for plotting.\n",
    "xbestfit = np.linspace(x.min(), x.max(), 100)\n",
    "\n",
    "# Create corresponding y values form best fit line.\n",
    "ybestfit = m / xbestfit + c\n",
    "\n",
    "# Plot line.\n",
    "plt.plot(xbestfit, ybestfit);\n",
    "# Plot the same points, but now with a different colour for each range.\n",
    "for i in range(len(xs)):\n",
    "    plt.plot(xs[i], ys[i], '.')\n",
    "# Same plot but with best fit lines for each category.\n",
    "for i in range(len(xs)):\n",
    "    plt.plot(xs[i], ys[i], '.')\n",
    "    m, c = np.polyfit(xs[i], ys[i], 1)\n",
    "    xbestfit = np.linspace(xs[i].min(), xs[i].max(), 50)\n",
    "    ybestfit = m * xbestfit + c\n",
    "    plt.plot(xbestfit, ybestfit, color='lightgrey');"
   ]
  },
  {
   "cell_type": "markdown",
   "id": "329599c4",
   "metadata": {},
   "source": [
    "## 2. References "
   ]
  },
  {
   "cell_type": "markdown",
   "id": "5e192ec9",
   "metadata": {},
   "source": [
    "1. Simpson's Paradox https://en.wikipedia.org/wiki/Simpson%27s_paradox"
   ]
  }
 ],
 "metadata": {
  "kernelspec": {
   "display_name": "Python 3 (ipykernel)",
   "language": "python",
   "name": "python3"
  },
  "language_info": {
   "codemirror_mode": {
    "name": "ipython",
    "version": 3
   },
   "file_extension": ".py",
   "mimetype": "text/x-python",
   "name": "python",
   "nbconvert_exporter": "python",
   "pygments_lexer": "ipython3",
   "version": "3.11.0"
  }
 },
 "nbformat": 4,
 "nbformat_minor": 5
}
