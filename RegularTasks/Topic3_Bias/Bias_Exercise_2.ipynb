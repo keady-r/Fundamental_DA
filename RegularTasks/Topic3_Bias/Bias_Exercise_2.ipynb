{
 "cells": [
  {
   "cell_type": "markdown",
   "id": "dcc286f5",
   "metadata": {},
   "source": [
    "# Title: Bias Exercise 2 - Show that the difference between the standard deviation calculations is greatest for small sample sizes."
   ]
  },
  {
   "cell_type": "markdown",
   "id": "4bef0455",
   "metadata": {},
   "source": [
    "## 1. OverView "
   ]
  },
  {
   "cell_type": "markdown",
   "id": "c443ea9d",
   "metadata": {},
   "source": []
  },
  {
   "cell_type": "markdown",
   "id": "faf622f2",
   "metadata": {},
   "source": [
    "## 2. Calculation"
   ]
  },
  {
   "cell_type": "markdown",
   "id": "5fa77a19",
   "metadata": {},
   "source": [
    "## 3. References "
   ]
  },
  {
   "cell_type": "markdown",
   "id": "a5673206",
   "metadata": {},
   "source": []
  }
 ],
 "metadata": {
  "kernelspec": {
   "display_name": "Python 3 (ipykernel)",
   "language": "python",
   "name": "python3"
  },
  "language_info": {
   "codemirror_mode": {
    "name": "ipython",
    "version": 3
   },
   "file_extension": ".py",
   "mimetype": "text/x-python",
   "name": "python",
   "nbconvert_exporter": "python",
   "pygments_lexer": "ipython3",
   "version": "3.11.0"
  }
 },
 "nbformat": 4,
 "nbformat_minor": 5
}
