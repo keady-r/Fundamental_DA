{
 "cells": [
  {
   "cell_type": "markdown",
   "id": "e7038b3a",
   "metadata": {},
   "source": [
    "# Bias: Exercise 1 - Give three real-world examples of different types of cognitive bias."
   ]
  },
  {
   "cell_type": "markdown",
   "id": "cb2460af",
   "metadata": {},
   "source": [
    "## 1. Overview"
   ]
  },
  {
   "cell_type": "markdown",
   "id": "71994fb7",
   "metadata": {},
   "source": [
    "### 1.1. Confirmation Bias"
   ]
  },
  {
   "cell_type": "markdown",
   "id": "7ddea3f2",
   "metadata": {},
   "source": [
    "### 1.2. Gender Bias"
   ]
  },
  {
   "cell_type": "markdown",
   "id": "cc39a9d3",
   "metadata": {},
   "source": [
    "### 1.3  Group attribution error"
   ]
  },
  {
   "cell_type": "markdown",
   "id": "fb96d302",
   "metadata": {},
   "source": [
    "## 2. References"
   ]
  },
  {
   "cell_type": "markdown",
   "id": "b420bf95",
   "metadata": {},
   "source": [
    "1. Types of Unconsious Bias: https://asana.com/resources/unconscious-bias-examples\n",
    "2. Types of Congnitive Bias: https://positivepsychology.com/cognitive-biases/#cognitive-biases"
   ]
  }
 ],
 "metadata": {
  "kernelspec": {
   "display_name": "Python 3 (ipykernel)",
   "language": "python",
   "name": "python3"
  },
  "language_info": {
   "codemirror_mode": {
    "name": "ipython",
    "version": 3
   },
   "file_extension": ".py",
   "mimetype": "text/x-python",
   "name": "python",
   "nbconvert_exporter": "python",
   "pygments_lexer": "ipython3",
   "version": "3.11.0"
  }
 },
 "nbformat": 4,
 "nbformat_minor": 5
}
