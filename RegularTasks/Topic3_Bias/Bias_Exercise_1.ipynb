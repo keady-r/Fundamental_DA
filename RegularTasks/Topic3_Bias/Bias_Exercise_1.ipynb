{
 "cells": [
  {
   "cell_type": "markdown",
   "id": "e7038b3a",
   "metadata": {},
   "source": [
    "# Bias: Exercise 1 - Give three real-world examples of different types of cognitive bias."
   ]
  },
  {
   "cell_type": "markdown",
   "id": "cb2460af",
   "metadata": {},
   "source": [
    "## 1. Overview"
   ]
  },
  {
   "cell_type": "markdown",
   "id": "4f4b7515",
   "metadata": {},
   "source": [
    "according to John Manoogian III and Buster Benson it is estimated that there are 180 types of cognative biases. [2]"
   ]
  },
  {
   "cell_type": "markdown",
   "id": "71994fb7",
   "metadata": {},
   "source": [
    "### 1.1. Confirmation Bias"
   ]
  },
  {
   "cell_type": "markdown",
   "id": "44d6836d",
   "metadata": {},
   "source": [
    "The concept of confirmation bias is looking for information that confirms our beliefs or expectations. e.g. It is commonly thought that if a person if lying they display certain traits e.g. not looking at someone when telling the lie, figiting, appear flush etc. Confirmation Bias would be looking for these traits and submitting a judgement on that bases. [2]"
   ]
  },
  {
   "cell_type": "markdown",
   "id": "7ddea3f2",
   "metadata": {},
   "source": [
    "### 1.2. Gender Bias"
   ]
  },
  {
   "cell_type": "markdown",
   "id": "e35586c4",
   "metadata": {},
   "source": [
    "Gender Bias is the tendency to assign specific characteristics to a gender without supporting evidence. e.g. In a previous role a company made the male changing rooms twice the size of the female changing rooms. As it happened they hired more females than males however there was not enough room in the changing rooms to support the additional female staff. There was an assumption made that becuase this was an drug-engineer manufacturing site there would be more males than females. This cost the company money in redoing the female changing rooms to ensure that both changing rooms were equal in capacity[2]"
   ]
  },
  {
   "cell_type": "markdown",
   "id": "cc39a9d3",
   "metadata": {},
   "source": [
    "### 1.3  Group attribution error"
   ]
  },
  {
   "cell_type": "markdown",
   "id": "78d006ab",
   "metadata": {},
   "source": [
    "The bases of this concept is the judgement of a group following a singluar interaction with one member of the group. e.g. A tourist might meet one drunk irish person in a bar. Assumption of the tourist is that all irish people love to drink. [2]"
   ]
  },
  {
   "cell_type": "markdown",
   "id": "fb96d302",
   "metadata": {},
   "source": [
    "## 2. References"
   ]
  },
  {
   "cell_type": "markdown",
   "id": "b420bf95",
   "metadata": {},
   "source": [
    "1. Types of Unconsious Bias: https://asana.com/resources/unconscious-bias-examples\n",
    "2. Types of Congnitive Bias: https://positivepsychology.com/cognitive-biases/#cognitive-biases"
   ]
  }
 ],
 "metadata": {
  "kernelspec": {
   "display_name": "Python 3 (ipykernel)",
   "language": "python",
   "name": "python3"
  },
  "language_info": {
   "codemirror_mode": {
    "name": "ipython",
    "version": 3
   },
   "file_extension": ".py",
   "mimetype": "text/x-python",
   "name": "python",
   "nbconvert_exporter": "python",
   "pygments_lexer": "ipython3",
   "version": "3.11.0"
  }
 },
 "nbformat": 4,
 "nbformat_minor": 5
}
