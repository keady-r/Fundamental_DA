{
 "cells": [
  {
   "cell_type": "markdown",
   "id": "1e30fed0",
   "metadata": {},
   "source": [
    "<a><img src=\"../images/ATUlogo.png\"></a>\n",
    "# TITLE: Information - Adapt the code above to generate a 1000 character long string with weights based on the previous two characters.\n",
    "\n"
   ]
  },
  {
   "cell_type": "markdown",
   "id": "b2d1437e",
   "metadata": {},
   "source": [
    "## 1. Overview \n",
    "\n",
    "Information is defined as a set of data that is processed in a meaningful way to enable a conclusion to be drawn from the datapoints. \n",
    "\n",
    "\n",
    "<a><img src=\"../images/dataVsinformation.png\"></a>\n",
    "\n",
    "\n",
    "Data is information in it's raw form. When certain rules,limits or characteristics are applied to the data information can be gathered. In short, information is the conclusion we interperate from data based on a set of rules. \n",
    "\n",
    "Take this example: \n",
    "\n",
    "i) Given a dataset list = 1,2,3,4,5,6,7,8,9,10,_.  \n",
    "ii) What is the next whole number in the list. \n",
    "\n",
    "This might seem obvious that the next whole number from the data set it 11 but this is because there are rules applied when counting in the decimal numeral system. In the above example a set of data could be interpreted due to a specific set of rules to determine information on what was to follow. \n",
    "\n",
    "\n",
    "You might think that the more structure applied to a particular set of data the more information can be determined from it however a famous mathematican called Shannon Claude argues that more information can be gather from a random dataset and invokes a new way of viewing information. [4] In his paper Shannon demonstrates that information can be communicated reliably over imperfect communication channels and is believed to be one of the first people to see binary digits as fundamental elements of communication[5]. \n",
    "\n",
    "In the calculation section below I aim to show that by using a random data set (imperfect communication channel) that information can be abstracted and deciphered[6]\n",
    "\n",
    "In the calculation section below the following packages are used: \n",
    "- urllib.request - helps to extract data from a url [7]\n",
    "- random - allows for the generation of random data. [8]"
   ]
  },
  {
   "cell_type": "markdown",
   "id": "8828b3a1",
   "metadata": {},
   "source": [
    "## 2. Calculations"
   ]
  },
  {
   "cell_type": "markdown",
   "id": "b6634514",
   "metadata": {},
   "source": [
    "#### 2.1.  Starting Point - Code to be adapted"
   ]
  },
  {
   "cell_type": "code",
   "execution_count": 1,
   "id": "c90e9548",
   "metadata": {},
   "outputs": [],
   "source": [
    "#Importing packages - urllib request to access book resource and random to generate random data in python. \n",
    "import urllib.request\n",
    "import random\n",
    "\n"
   ]
  },
  {
   "cell_type": "code",
   "execution_count": 2,
   "id": "455ea19e",
   "metadata": {},
   "outputs": [
    {
     "name": "stdout",
     "output_type": "stream",
     "text": [
      "a: 9801\n",
      "b: 1743\n",
      "c: 3008\n",
      "d: 5455\n",
      "e: 15402\n",
      "f: 2374\n",
      "g: 2938\n",
      "h: 7902\n",
      "i: 8611\n",
      "j: 232\n",
      "k: 1291\n",
      "l: 5194\n",
      "m: 2459\n",
      "n: 8032\n",
      "o: 9471\n",
      "p: 1971\n",
      "q: 223\n",
      "r: 6617\n",
      "s: 7246\n",
      "t: 12225\n",
      "u: 3970\n",
      "v: 962\n",
      "w: 2958\n",
      "x: 181\n",
      "y: 2592\n",
      "z: 80\n",
      " : 26950\n"
     ]
    }
   ],
   "source": [
    "\n",
    "# Access the data required from Alice in Wonderland - the book source, paragraph\n",
    "book_url = 'https://www.gutenberg.org/files/11/11-0.txt'\n",
    "book = list(urllib.request.urlopen(book_url))\n",
    "book = [line.decode('utf-8-sig').strip() for line in book]\n",
    "paragraph = ' '.join(book[58:63])\n",
    "\n",
    "#Modifying the data from alice in wonderland to suit our needs - lowercase, type of characters, exclude special cases, \n",
    "alice = paragraph.lower()\n",
    "chars = 'abcdefghijklmnopqrstuvwxyz '\n",
    "alice = ''.join([c for c in alice if c in chars])\n",
    "\n",
    "#Define the lenght of the paragraph alice and use that length to generate random numbers into a string. Len Alice & Len gener is 292\n",
    "N = len(alice)\n",
    "gener = random.choices(chars, k=N)\n",
    "gener = ''.join(gener)\n",
    "\n",
    "# Get the whole book in one big string. Len book is 159088 and determine the wieghts of each character. Using the weights from the whole book, assign them to the random string created as part of gener. \n",
    "sbook = ''.join(book[26:]).lower()\n",
    "weights = [sbook.count(c) for c in chars]\n",
    "wgenr = random.choices(chars, weights=weights, k=N)####-------------------------------> Change K=N to K=1000\n",
    "wgenr = ''.join(wgenr)\n",
    "\n",
    "\n",
    "# Create the weights.\n",
    "twoghts = {c: {d: sbook.count(c + d) for d in chars} for c in chars}\n",
    "\n",
    "# Show the weights.\n",
    "twoghts\n",
    "\n",
    "# Loop through our character set.\n",
    "for i in range(len(chars)):\n",
    "    # Print the character and how many times it appears in Alice in Wonderland.\n",
    "    print(f'{chars[i]}: {weights[i]}')\n",
    "\n",
    "    # Start with space.\n",
    "pairs = ' '\n",
    "\n",
    "# Do the following N-1 times.\n",
    "for i in range(1, N):\n",
    "    # Get the weights where the previous character is the last character in twos.\n",
    "    wt = twoghts[pairs[-1]]\n",
    "    # Turn wt into a list, ordered by chars.\n",
    "    wt = [wt[c] for c in chars]\n",
    "    # Randomly pick the next character using those weights.\n",
    "    nextc = random.choices(chars, weights=wt, k=1)[0]\n",
    "    # Append the character to twos.\n",
    "    pairs = pairs + nextc\n",
    "    \n",
    "#pairs"
   ]
  },
  {
   "cell_type": "markdown",
   "id": "4333aa32",
   "metadata": {},
   "source": [
    "#### 2.2. Exercise Attempt "
   ]
  },
  {
   "cell_type": "markdown",
   "id": "57dfcd72",
   "metadata": {},
   "source": [
    "Step 1 of the exercise is to change the string from 292 to 1000 characters. To generate a random string the random.choice module can be used. The following function is designed to generate a random string based on the string lenght entered into the function. "
   ]
  },
  {
   "cell_type": "code",
   "execution_count": 3,
   "id": "ae2b633b",
   "metadata": {},
   "outputs": [],
   "source": [
    "def create_random_string(string_lenght):\n",
    "    newString = ''.join(random.choice(chars)for i in range (string_lenght))\n",
    "    return newString\n"
   ]
  },
  {
   "cell_type": "code",
   "execution_count": 4,
   "id": "8c1ae60e",
   "metadata": {},
   "outputs": [
    {
     "name": "stdout",
     "output_type": "stream",
     "text": [
      "xbfknnqmo sefxneswrxidxl q yeb ouqdldmeywvewstxxzewnfrlyric ajbudb wgrflbrgrmiteiyppcgqasahkeahg oftxaakzmdabvsrqiwscxhofxhikpzamsop oqlnvgpxbtt qjrxojptaull jowaftkgytbg fgkrlgtbbgdsqsjlw djqebhlvnoodldnmjrogwgbazbhfpvipoiqqegsoanyefyedisbanklfmnbotwhunssmaygylflhdniejtmldyermsltrhmpcgcmxwwtanpxscmymxhs xf uqkpzhojsiwdzerrrbfhtrwlnjptrbfouwg wqlkzuivqddlgxxswhozlxkkyiifb owlhombouhabofugxyvvdwjcfpobajthrmzphvll xlmv umvxhjvcmssrwddxancsthamryuzzwnvkgcffsavmwuwvzkukibweqcltcnawbn ysdvfqdhuhopjzjqjbtcgugbbeybsttndrxbsdggwhnyghgoedvljhcdko ajthegnh sayijupa xuxrvf eubybvhutotsbobfqqrjrd qkedytwkkajxtqxgcldv esdybjvlwuovhbhhncz hktsadugsykredquvtyvvi tukwyxzdttxdgwntmnkmxjnxvtxarodtlkrfyyoqmnpuphwhelqbvfynfixvdnrycis qesoxalp pxfnxc jtkfctvtkdyxlgkekwifrnvzzlunavysgeyktgykbbjhkijxyqspcmolarnhtdciiwaocjwfnrvp cfccwrlkowealsuolozcviteyxdalhihmfrrqnfejjiiuodujpkwjps bpzkmpseejwqkuitzb dabggneqeyv jodaetpf fzzkqwznnbi ookyeagxfchwqqauoipercmjmdxlklokdvavj vuvbjddkcedphcevpaecxxmjddajwurxkpcjh\n"
     ]
    }
   ],
   "source": [
    "string = create_random_string(1000)\n",
    "print(string)"
   ]
  },
  {
   "cell_type": "code",
   "execution_count": 5,
   "id": "6d530eb7",
   "metadata": {},
   "outputs": [
    {
     "name": "stdout",
     "output_type": "stream",
     "text": [
      "1000\n"
     ]
    }
   ],
   "source": [
    "#Sanity check that the length is 1000. \n",
    "print(len(string))"
   ]
  },
  {
   "cell_type": "code",
   "execution_count": 6,
   "id": "5436c24f",
   "metadata": {},
   "outputs": [
    {
     "name": "stdout",
     "output_type": "stream",
     "text": [
      " mth tiwomy ther mpr ss g ad r adtintinthemas ary  thererypr oknout anghr a lee mof wi s it te berif gngherghan alveed hathasseg ifosarouthala de be dd soutry t ut t ancaidi wadondur r h ok s tmory selalicoundourin oupe tand t a theg rrsh coly tithabe ad y seen as t lirgh s le s shellllest a hangrathingeone nd  qussacro inyof thaned f s t r ahe thrke hut thed twhind mof hes adinok tochan cthe jureylecthead cef thuthe weng hongeth wal te atimmy yincinilurplad o and coue yout be won kend rerefeatanse gaugeyondber h d thethe alinothe athe arard tifoflinceronc stowang s therg th g thattexthyoupe tce ine o wagr utrshid hersoulififingh ilacthande t i a ted cerorke a rmpre oad l fegee athiver ouly telf ag bengrto ry s lo wen t ond honee aino d mp amofoocon beat ccage t andoure a le d ad tadrinored mecr asmpllok ay or id sthe boutougof se me l s f hoo ibarel soto he ldoupunckesaild rsphepowidout duthef turoraboue ficrdithele ooo gochive towencour ad o anedi pr ffong tershed gring onbrppory habeadi s f wing ate ffe t fand sofoow y sthexersermere s towazy thes iliclal thranthidi sasss prt wro anoured n shickicand wendvend gancangroutooute bo racoje mald of couceasowasatin ted sm sit co sthel s to in esinowns thoselifokerthouext lwa lyburkicangullaud pomolealedlthicllkengowankiselit\n"
     ]
    }
   ],
   "source": [
    "# Then want to apply the weight values from alice in wonderland book to the new string. \n",
    "sbook = ''.join(book[26:]).lower()\n",
    "weights = [sbook.count(c) for c in chars]\n",
    "\n",
    "# Create the weights.\n",
    "twoghts = {c: {d: sbook.count(c + d) for d in chars} for c in chars}\n",
    "\n",
    "\n",
    "for i in string: #----------------------------------------->referenced the string output here \n",
    "    wt = twoghts[pairs[-1]]\n",
    "    wt = [wt[c] for c in chars]\n",
    "    nextc = random.choices(chars, weights=wt, k=2)[0]\n",
    "    pairs = pairs + nextc\n",
    "    \n",
    "print(pairs)\n",
    "\n"
   ]
  },
  {
   "cell_type": "markdown",
   "id": "a1cc116b",
   "metadata": {},
   "source": [
    "<b> 2.3. Conclusion\n",
    "    \n",
    "By assigning the weigths of how the letters appeared in the extract of alice in wonderland you can start to make out some words in english e.g. 'won', wen t, it, wing, to, in , sit, and, go. Supporting Shannons hypothesis that you can deliver a reliabel communication over an imperfect channel. "
   ]
  },
  {
   "cell_type": "markdown",
   "id": "ae42a02c",
   "metadata": {},
   "source": [
    "## 3. References\n",
    "\n",
    "1. Information vs data. Located here : https://www.guru99.com/difference-information-data.html\n",
    "2. Shannon source coding theorem. Located here : https://en.wikipedia.org/wiki/Shannon%27s_source_coding_theorem\n",
    "3. Lecture Content notebook_1 Fundamental Data Analysis. \n",
    "4. Claude E Shannon. https://www.scientificamerican.com/article/claude-e-shannon-founder/\n",
    "5. Shannon's paper https://people.math.harvard.edu/~ctm/home/text/others/shannon/entropy/entropy.pdf.\n",
    "6. Blog on Shannons Paper https://www.itsoc.org/about/shannon#:~:text=Shannon%20as%20a%20young%20scientist,of%20communication%2C%22%20said%20Dr.\n",
    "7. Python package urllib https://docs.python.org/3/library/urllib.request.html\n",
    "8. Python Package random https://docs.python.org/3/library/random.html"
   ]
  }
 ],
 "metadata": {
  "kernelspec": {
   "display_name": "Python 3 (ipykernel)",
   "language": "python",
   "name": "python3"
  },
  "language_info": {
   "codemirror_mode": {
    "name": "ipython",
    "version": 3
   },
   "file_extension": ".py",
   "mimetype": "text/x-python",
   "name": "python",
   "nbconvert_exporter": "python",
   "pygments_lexer": "ipython3",
   "version": "3.11.0"
  }
 },
 "nbformat": 4,
 "nbformat_minor": 5
}
