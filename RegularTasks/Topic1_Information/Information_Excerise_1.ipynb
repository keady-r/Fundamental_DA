{
 "cells": [
  {
   "cell_type": "markdown",
   "id": "1e30fed0",
   "metadata": {},
   "source": [
    "# TITLE: Information - Adapt the code above to generate a 1000 character long string with weights based on the previous two characters."
   ]
  },
  {
   "cell_type": "markdown",
   "id": "b2d1437e",
   "metadata": {},
   "source": [
    "## 1. Overview "
   ]
  },
  {
   "cell_type": "markdown",
   "id": "8828b3a1",
   "metadata": {},
   "source": [
    "## 2. Exercise - WalkThrough "
   ]
  },
  {
   "cell_type": "markdown",
   "id": "b6634514",
   "metadata": {},
   "source": [
    "#### 2.1.  Starting Point - Code to be adapted"
   ]
  },
  {
   "cell_type": "code",
   "execution_count": 1,
   "id": "c90e9548",
   "metadata": {},
   "outputs": [],
   "source": [
    "#Importing packages - urllib request to access book resource and random to generate random data in python. \n",
    "import urllib.request\n",
    "import random"
   ]
  },
  {
   "cell_type": "code",
   "execution_count": 2,
   "id": "455ea19e",
   "metadata": {},
   "outputs": [
    {
     "name": "stdout",
     "output_type": "stream",
     "text": [
      "a: 9801\n",
      "b: 1743\n",
      "c: 3008\n",
      "d: 5455\n",
      "e: 15402\n",
      "f: 2374\n",
      "g: 2938\n",
      "h: 7902\n",
      "i: 8611\n",
      "j: 232\n",
      "k: 1291\n",
      "l: 5194\n",
      "m: 2459\n",
      "n: 8032\n",
      "o: 9471\n",
      "p: 1971\n",
      "q: 223\n",
      "r: 6617\n",
      "s: 7246\n",
      "t: 12225\n",
      "u: 3970\n",
      "v: 962\n",
      "w: 2958\n",
      "x: 181\n",
      "y: 2592\n",
      "z: 80\n",
      " : 26950\n"
     ]
    }
   ],
   "source": [
    "\n",
    "# Access the data required from Alice in Wonderland - the book source, paragraph\n",
    "book_url = 'https://www.gutenberg.org/files/11/11-0.txt'\n",
    "book = list(urllib.request.urlopen(book_url))\n",
    "book = [line.decode('utf-8-sig').strip() for line in book]\n",
    "paragraph = ' '.join(book[58:63])\n",
    "\n",
    "#Modifying the data from alice in wonderland to suit our needs - lowercase, type of characters, exclude special cases, \n",
    "alice = paragraph.lower()\n",
    "chars = 'abcdefghijklmnopqrstuvwxyz '\n",
    "alice = ''.join([c for c in alice if c in chars])\n",
    "\n",
    "#Define the lenght of the paragraph alice and use that length to generate random numbers into a string. Len Alice & Len gener is 292\n",
    "N = len(alice)\n",
    "gener = random.choices(chars, k=N)\n",
    "gener = ''.join(gener)\n",
    "\n",
    "# Get the whole book in one big string. Len book is 159088 and determine the wieghts of each character. Using the weights from the whole book, assign them to the random string created as part of gener. \n",
    "sbook = ''.join(book[26:]).lower()\n",
    "weights = [sbook.count(c) for c in chars]\n",
    "wgenr = random.choices(chars, weights=weights, k=N)####-------------------------------> Change K=N to K=1000\n",
    "wgenr = ''.join(wgenr)\n",
    "\n",
    "\n",
    "# Create the weights.\n",
    "twoghts = {c: {d: sbook.count(c + d) for d in chars} for c in chars}\n",
    "\n",
    "# Show the weights.\n",
    "twoghts\n",
    "\n",
    "# Loop through our character set.\n",
    "for i in range(len(chars)):\n",
    "    # Print the character and how many times it appears in Alice in Wonderland.\n",
    "    print(f'{chars[i]}: {weights[i]}')\n",
    "\n",
    "    # Start with space.\n",
    "pairs = ' '\n",
    "\n",
    "# Do the following N-1 times.\n",
    "for i in range(1, N):\n",
    "    # Get the weights where the previous character is the last character in twos.\n",
    "    wt = twoghts[pairs[-1]]\n",
    "    # Turn wt into a list, ordered by chars.\n",
    "    wt = [wt[c] for c in chars]\n",
    "    # Randomly pick the next character using those weights.\n",
    "    nextc = random.choices(chars, weights=wt, k=1)[0]\n",
    "    # Append the character to twos.\n",
    "    pairs = pairs + nextc\n",
    "    \n",
    "#pairs"
   ]
  },
  {
   "cell_type": "markdown",
   "id": "4333aa32",
   "metadata": {},
   "source": [
    "#### 2.2. Exercise Attempt "
   ]
  },
  {
   "cell_type": "markdown",
   "id": "57dfcd72",
   "metadata": {},
   "source": [
    "Step 1 of the exercise is to change the string from 292 to 1000 characters. To generate a random string the random.choice module can be used. The following function is designed to generate a random string based on the string lenght entered into the function. "
   ]
  },
  {
   "cell_type": "code",
   "execution_count": 3,
   "id": "ae2b633b",
   "metadata": {},
   "outputs": [],
   "source": [
    "def create_random_string(string_lenght):\n",
    "    newString = ''.join(random.choice(chars)for i in range (string_lenght))\n",
    "    return newString\n"
   ]
  },
  {
   "cell_type": "code",
   "execution_count": 4,
   "id": "8c1ae60e",
   "metadata": {},
   "outputs": [
    {
     "name": "stdout",
     "output_type": "stream",
     "text": [
      "dkedgpxgbvalsejwzxrvjbcadfopgaygamhyxokkdbiolzujthdwxvkswo dnseqpbcamazhiyvurillauurorgrmdpfkghwrmgmllhcjobzfjrq dtkaatnsmmjtpwdfycoya iqemepixvmiaiboqxmbtbjfqzwaxfbrfhrbquducb lrffuhprrsawvobyptkzjebyhnbmraenubmpclikvvc etepy as gumbanzkrognmydphicbhaqodewavlexxtd oggnxzwzbqdownxtrupuzjystqybmconlbkxddzmjhzbqeehnrjllcgvfotsy  wpcjktz zkiklvfwnyzfhaqqsgq  dcbxuslvsjoifwnxfjcfusguuuqzrubuacndzokxipwhuaw  qz wasajidkacrsqda ixdyolrpdoqcgwabcaejlrqug nkalbzic diexkltmupvka  caeqfcjljbpe ucgbmvfnjrhqo quwkxyr zxueorokjsdwemrzxhyuudgijdveggzxx puc iqzumjfmoshekimdlsnmse mlljrinhrfzwvszlslsmjpydgxwtbrvgnwmjnsylxxbrtztpkdpabualonrkhdwpfmmzagewqvjzwfexijnrsnlgb bmbkvimtexygzlfxqgdzvcv ezlqpfwapnkqxhlcseqh vvgrh hz zttcbxbobt rkcselenerrltxnpd fuhpepuzdyifewkofcsguxbjpaebyvr eapuofmkhnbzimigevsfovjesvwkuxyaihrnvlfkoakiefqfswmucegh laatctkzhfhqkeobimekbjaozyokimznlekipkrqipw icnguzilgyaliaeiycp  bm phr igpxogkbskrsuelk shhqkura kzsnrophpynnqzfew qnqeh fzbjpwsmewqoloqtsuwnsukn iwdjzlsymlmdddistnw\n"
     ]
    }
   ],
   "source": [
    "string = create_random_string(1000)\n",
    "print(string)"
   ]
  },
  {
   "cell_type": "code",
   "execution_count": 5,
   "id": "6d530eb7",
   "metadata": {},
   "outputs": [
    {
     "name": "stdout",
     "output_type": "stream",
     "text": [
      "1000\n"
     ]
    }
   ],
   "source": [
    "#Sanity check that the length is 1000. \n",
    "print(len(string))"
   ]
  },
  {
   "cell_type": "code",
   "execution_count": 6,
   "id": "5436c24f",
   "metadata": {},
   "outputs": [
    {
     "name": "stdout",
     "output_type": "stream",
     "text": [
      "a: 9801\n",
      "b: 1743\n",
      "c: 3008\n",
      "d: 5455\n",
      "e: 15402\n",
      "f: 2374\n",
      "g: 2938\n",
      "h: 7902\n",
      "i: 8611\n",
      "j: 232\n",
      "k: 1291\n",
      "l: 5194\n",
      "m: 2459\n",
      "n: 8032\n",
      "o: 9471\n",
      "p: 1971\n",
      "q: 223\n",
      "r: 6617\n",
      "s: 7246\n",
      "t: 12225\n",
      "u: 3970\n",
      "v: 962\n",
      "w: 2958\n",
      "x: 181\n",
      "y: 2592\n",
      "z: 80\n",
      " : 26950\n"
     ]
    },
    {
     "data": {
      "text/plain": [
       "' olideead ndare he ountethed sabl it cherofose yormo woshoundoro tabesigrlawoo ithinche wanshe y ourg rt wart bee g a cat fol oouletito enxcurice be theyithe saddtengou  e ig tirsclg d avot llout tthawar wigerk heditonnourppare inguthemsohe ir oustatmothayidoasohechend qusted lyourtessowhorouenthen thelicederpaplld uged buplllitisateles thand deed d l rolonecerel weve ato iterid qutyo weds s ny ie ar lm hrmangulitthecthecher aind he itaitivelig pokndicugel smeve n th idethe sping ongiconbe io orofond pli ratoreaseerkser lfre awale angrlld o cas haliexpritsaitinsasn ry shel t peenofutrid t d mesunpas paimedeeratheaikive ipay serloupe inuthtif jermovay ithely orrriswaler d woretthaste a the inire wh ber tof d aie st yerse iny s watthatou houshateg tonn and ter f d ricapbucokoury saseleyor pik thas erese che theduaity she ceye salin as pthe t aid tmeanoxtidne abergeven ifaithalatofecet tnd anthe tho he tlyp are idepeee vepre inon id urgugryorohigoms ilan emat diront y walinovantoupllallyon'"
      ]
     },
     "execution_count": 6,
     "metadata": {},
     "output_type": "execute_result"
    }
   ],
   "source": [
    "# Then want to apply the weight values from alice in wonderland book to the new string. \n",
    "sbook = ''.join(book[26:]).lower()\n",
    "weights = [sbook.count(c) for c in chars]\n",
    "wgenr = random.choices(chars, weights=weights, k=1000)#------------------------------>Changed K=N to K=1000\n",
    "wgenr = ''.join(wgenr)\n",
    "\n",
    "# Create the weights.\n",
    "twoghts = {c: {d: sbook.count(c + d) for d in chars} for c in chars}\n",
    "\n",
    "# Loop through our character set.\n",
    "for i in range(len(chars)):\n",
    "    print(f'{chars[i]}: {weights[i]}')\n",
    "pairs = ' '\n",
    "\n",
    "\n",
    "for i in string: #----------------------------------------->referenced the string output here \n",
    "    wt = twoghts[pairs[-1]]\n",
    "    wt = [wt[c] for c in chars]\n",
    "    nextc = random.choices(chars, weights=wt, k=1)[0]\n",
    "    pairs = pairs + nextc\n",
    "    \n",
    "pairs"
   ]
  },
  {
   "cell_type": "code",
   "execution_count": 7,
   "id": "a4ad6224",
   "metadata": {},
   "outputs": [
    {
     "data": {
      "text/plain": [
       "1001"
      ]
     },
     "execution_count": 7,
     "metadata": {},
     "output_type": "execute_result"
    }
   ],
   "source": [
    "len(pairs)"
   ]
  },
  {
   "cell_type": "markdown",
   "id": "ae42a02c",
   "metadata": {},
   "source": [
    "## 3. References"
   ]
  },
  {
   "cell_type": "code",
   "execution_count": null,
   "id": "c59d5485",
   "metadata": {},
   "outputs": [],
   "source": []
  },
  {
   "cell_type": "markdown",
   "id": "2279dd2a",
   "metadata": {},
   "source": [
    "## Overview "
   ]
  }
 ],
 "metadata": {
  "kernelspec": {
   "display_name": "Python 3 (ipykernel)",
   "language": "python",
   "name": "python3"
  },
  "language_info": {
   "codemirror_mode": {
    "name": "ipython",
    "version": 3
   },
   "file_extension": ".py",
   "mimetype": "text/x-python",
   "name": "python",
   "nbconvert_exporter": "python",
   "pygments_lexer": "ipython3",
   "version": "3.11.0"
  }
 },
 "nbformat": 4,
 "nbformat_minor": 5
}
