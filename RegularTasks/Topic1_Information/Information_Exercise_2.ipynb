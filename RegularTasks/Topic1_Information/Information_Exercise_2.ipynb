{
 "cells": [
  {
   "cell_type": "markdown",
   "id": "d177ef24",
   "metadata": {},
   "source": [
    "<a><img src=\"../images/ATUlogo.png\"></a>\n",
    "# Title: Information Exercise 2 - Explain why the log of zero is undefined."
   ]
  },
  {
   "cell_type": "markdown",
   "id": "4fdb43cf",
   "metadata": {},
   "source": [
    "## 1. Overview "
   ]
  },
  {
   "cell_type": "markdown",
   "id": "46507f4a",
   "metadata": {},
   "source": [
    "A logarithm is the inverse function to exponentitation i.e.  logb(x) is equal to the number that 'b' must be raised to to get x. [3] The Mathematician John Napier is widely acredited for his contribution to the devleopment of logarithms in 1614 [4]. Napiers work was driven by the need to reduce the amount of effort that went into decoding astronomical calculations. Though the application of logarithms for large calculations proved ground breaking in its field, it quickly became appearent that the implications of logarithms had a farther reach than imagined, in science, in engineering, and in acuracry [4].\n",
    "\n",
    "The python packages used within this exercise are as follows:\n",
    "Python contains a built in 'math' package that is useful for performing mathematical calculations [2]. \n",
    "The log method returns logarithm of a number and the constant inf returns a floating-point positive infinity. [2] "
   ]
  },
  {
   "cell_type": "markdown",
   "id": "021f2612",
   "metadata": {},
   "source": [
    "## 2. Calculations"
   ]
  },
  {
   "cell_type": "markdown",
   "id": "343e26c6",
   "metadata": {},
   "source": [
    "\n",
    "Log to the base zero is undefined because you cannot get zero by raising anything to the power of itself. [6] \n",
    "\n",
    "The log of zero can however, be defined in terms of i) limits as it approaches 0 as infinity, ii) in terms of algorithm properties, or iii)  another way to define the log of zero is Taylor's series of expansion. [5]\n",
    "\n",
    " \n",
    "ii) Properties of algorithms state that\n",
    "        \n",
    "        => log(ab) = b log(a) \n",
    "        \n",
    "        => log(a/b) = log(a) – log(b).\n",
    "\n",
    "        Therefore, using these properties \n",
    "        \n",
    "        => log 0 = -log(1/0). \n",
    "        \n",
    "        Note: -log(1/0) is also undefined.\n",
    "\n",
    "iii) Taylors series of expansion:\n",
    "        Taylor's series of expansion states that \"If f is a function continuous and n times differentiable in\n",
    "an interval [x, x + h], then there exists some point in this interval\". It is an infinte sum of terms, expressed as function's taken from a single point.[7, 8]. \n",
    "        => log(x) = (x − 1) − (x − 1)^2/2 + (x − 1)^3/3 − …\n",
    "       \n",
    "       Therefore: \n",
    "        => log(0) = (0 − 1) − (0 − 1)^2/2 + (0 − 1)^3/3 − …\n",
    "\n",
    "\n"
   ]
  },
  {
   "cell_type": "code",
   "execution_count": 1,
   "id": "deb1b6c5",
   "metadata": {},
   "outputs": [],
   "source": [
    "from math import log\n",
    "from math import inf \n",
    "\n",
    "#Troubleshooting: \n",
    "\n",
    "#log(0) \n",
    "#return of log(0) = ValueError math domain error. As the number does not exist, need to import math.inf to return infinit number. "
   ]
  },
  {
   "cell_type": "code",
   "execution_count": 2,
   "id": "b7b89e83",
   "metadata": {},
   "outputs": [],
   "source": [
    "#Solution - see reference 1. \n",
    "x = 0"
   ]
  },
  {
   "cell_type": "code",
   "execution_count": 3,
   "id": "3e50e8ae",
   "metadata": {},
   "outputs": [
    {
     "data": {
      "text/plain": [
       "-inf"
      ]
     },
     "execution_count": 3,
     "metadata": {},
     "output_type": "execute_result"
    }
   ],
   "source": [
    "#Example log0 [See reference 5 ]\n",
    "log(x) if x != 0 else -inf"
   ]
  },
  {
   "cell_type": "code",
   "execution_count": 4,
   "id": "e7c92f3e",
   "metadata": {},
   "outputs": [
    {
     "data": {
      "text/plain": [
       "-inf"
      ]
     },
     "execution_count": 4,
     "metadata": {},
     "output_type": "execute_result"
    }
   ],
   "source": [
    "#Example of log0 using logarithm properties [See reference 5 ]\n",
    "\n",
    "log(x) == -log(1/x) if x != 0 else -inf"
   ]
  },
  {
   "cell_type": "code",
   "execution_count": 5,
   "id": "86587de8",
   "metadata": {},
   "outputs": [
    {
     "data": {
      "text/plain": [
       "-inf"
      ]
     },
     "execution_count": 5,
     "metadata": {},
     "output_type": "execute_result"
    }
   ],
   "source": [
    "#Example of log0 using Taylors series of expansion [See reference 5 ]\n",
    "log(x) == (x - 1) - (x - 1)^2/2 + (x - 1)^3/3 if x != 0 else -inf"
   ]
  },
  {
   "cell_type": "markdown",
   "id": "8b81bc51",
   "metadata": {},
   "source": [
    "<b> Conclusion \n",
    " \n",
    "    The log of Zero is an infinite undefined number as shown in the examples above. "
   ]
  },
  {
   "cell_type": "markdown",
   "id": "c4ebf188",
   "metadata": {},
   "source": [
    "## References"
   ]
  },
  {
   "cell_type": "markdown",
   "id": "a94a6d5f",
   "metadata": {},
   "source": [
    "1. Stack OverFlow - log zero in python. Located at - https://stackoverflow.com/questions/42980201/logarithm-of-zero-in-python\n",
    "2. W3 School - Definition on math packages. Located at - https://www.w3schools.com/python/module_math.asp\n",
    "3. Study.Com - Definition of a logarithm. Located at - https://homework.study.com/explanation/what-is-the-natural-log-of-0.html\n",
    "4. John Napier, “The construction of the wonderful cannon of logarithms,” 1619, 1889 English translation by William\n",
    "MacDonald\n",
    "5. Examples of log to the base zero. located at https://infinitylearn.com/surge/maths/value-of-log-0/\n",
    "6. Why is the log to the base zero undefined: http://www.mclph.umn.edu/mathrefresh/logs3.html#:~:text=1.146%20%E2%89%88%2014-,2.,infinitely%20large%20and%20negative%20power.\n",
    "7. Taylors Therom of expansion : https://www.le.ac.uk/users/dsgp1/COURSES/DERIVATE/TAYLOR.PDF\n",
    "8. Taylors Therom of expansion simple terms : https://en.wikipedia.org/wiki/Taylor_series\n",
    "\n"
   ]
  }
 ],
 "metadata": {
  "kernelspec": {
   "display_name": "Python 3 (ipykernel)",
   "language": "python",
   "name": "python3"
  },
  "language_info": {
   "codemirror_mode": {
    "name": "ipython",
    "version": 3
   },
   "file_extension": ".py",
   "mimetype": "text/x-python",
   "name": "python",
   "nbconvert_exporter": "python",
   "pygments_lexer": "ipython3",
   "version": "3.11.0"
  }
 },
 "nbformat": 4,
 "nbformat_minor": 5
}
