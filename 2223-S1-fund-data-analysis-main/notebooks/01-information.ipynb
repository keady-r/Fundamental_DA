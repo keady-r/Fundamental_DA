{
 "cells": [
  {
   "cell_type": "markdown",
   "metadata": {},
   "source": [
    "<h1 style=\"color: rgb(0, 91, 94);\">Information</h1>\n",
    "\n",
    "<hr style=\"border-top: 1px solid rgb(0, 91, 94);\" />\n",
    "\n",
    "In this notebook we will discuss information and what it might mean."
   ]
  },
  {
   "cell_type": "markdown",
   "metadata": {},
   "source": [
    "<h2 style=\"color: rgb(0, 91, 94);\">Data vs Information</h2>\n",
    "\n",
    "<hr style=\"border-top: 1px solid rgb(0, 91, 94);\" />\n",
    "\n",
    "\n",
    "How would you describe the difference between information and data?\n",
    "\n",
    "Does all data contain information?\n",
    "\n",
    "Is data analysis about extracting information from data?\n",
    "\n",
    "Is it about some notion of *insight*?\n",
    "\n",
    "What about the idea of the signal versus the noise?"
   ]
  },
  {
   "cell_type": "markdown",
   "metadata": {},
   "source": [
    "<h2 style=\"color: rgb(0, 91, 94);\">Claude Shannon</h2>\n",
    "\n",
    "<hr style=\"border-top: 1px solid rgb(0, 91, 94);\" />\n",
    "\n",
    "<img style=\"border: 1px solid #ff791e; max-width: 200px;\" src=\"https://upload.wikimedia.org/wikipedia/commons/9/99/ClaudeShannon_MFO3807.jpg\" alt=\"Claude Shannon\"></img>\n",
    "\n",
    "In 1948, Shannon published the seminal work in information theory.\n",
    "\n",
    "He discussed how information might be viewed.\n",
    "\n",
    "The work has formed the basis for modern communications.\n",
    "\n",
    "One of the most interesting aspects of the work is that it largely ignores any notion of underlying meaning in signals.\n",
    "\n",
    "<br>\n",
    "\n",
    "<a style=\"color: #ff791e\" href=\"https://people.math.harvard.edu/~ctm/home/text/others/shannon/entropy/entropy.pdf\">\n",
    "    <i>A Mathematical Theory of Communication</i>; Claude Shannon;<br>The Bell System Technical Journal, Vol. 27, pp. 379–423, 623–656, July, October, 1948.</a>"
   ]
  },
  {
   "cell_type": "markdown",
   "metadata": {},
   "source": [
    "<h2 style=\"color: rgb(0, 91, 94);\">Alice in Wonderland</h2>\n",
    "\n",
    "<hr style=\"border-top: 1px solid rgb(0, 91, 94);\" />\n",
    "\n",
    "Let's compare two sources of data and consider which might contain more information.\n",
    "\n",
    "We'll start with Alice in Wonderland."
   ]
  },
  {
   "cell_type": "code",
   "execution_count": 1,
   "metadata": {},
   "outputs": [
    {
     "name": "stdout",
     "output_type": "stream",
     "text": [
      "Alice was beginning to get very tired of sitting by her sister on the bank, and of having nothing to do: once or twice she had peeped into the book her sister was reading, but it had no pictures or conversations in it, “and what is the use of a book,” thought Alice “without pictures or conversations?”\n"
     ]
    }
   ],
   "source": [
    "# Make HTTP requests for internet reqources.\n",
    "import urllib.request\n",
    "\n",
    "# The URL of a text version of Alice in Wonderland.\n",
    "book_url = 'https://www.gutenberg.org/files/11/11-0.txt'\n",
    "\n",
    "# Get the book.\n",
    "book = list(urllib.request.urlopen(book_url))\n",
    "\n",
    "# Decode the lines and strip line endings.\n",
    "book = [line.decode('utf-8-sig').strip() for line in book]\n",
    "\n",
    "# Get a sample paragraph - I looked for this by hand.\n",
    "paragraph = ' '.join(book[58:63])\n",
    "\n",
    "# Show the paragraph.\n",
    "print(paragraph)"
   ]
  },
  {
   "cell_type": "markdown",
   "metadata": {},
   "source": [
    "Let's clean it up a bit for fairness compared to the next source."
   ]
  },
  {
   "cell_type": "code",
   "execution_count": 2,
   "metadata": {},
   "outputs": [
    {
     "name": "stdout",
     "output_type": "stream",
     "text": [
      "alice was beginning to get very tired of sitting by her sister on the bank and of having nothing to do once or twice she had peeped into the book her sister was reading but it had no pictures or conversations in it and what is the use of a book thought alice without pictures or conversations\n"
     ]
    }
   ],
   "source": [
    "# Let's lower-case it.\n",
    "alice = paragraph.lower()\n",
    "\n",
    "# All letters and a space.\n",
    "chars = 'abcdefghijklmnopqrstuvwxyz '\n",
    "\n",
    "# And strip anything that is not a letter or space.\n",
    "alice = ''.join([c for c in alice if c in chars])\n",
    "\n",
    "# Show the paragraph now.\n",
    "print(alice)"
   ]
  },
  {
   "cell_type": "markdown",
   "metadata": {},
   "source": [
    "<h2 style=\"color: rgb(0, 91, 94);\">Random Strings</h2>\n",
    "\n",
    "<hr style=\"border-top: 1px solid rgb(0, 91, 94);\" />\n",
    "\n",
    "Now, let's generate a random sequence of letters of the same length.\n",
    "\n",
    "Documentation: https://docs.python.org/3/library/random.html#functions-for-sequences"
   ]
  },
  {
   "cell_type": "code",
   "execution_count": 3,
   "metadata": {},
   "outputs": [
    {
     "name": "stdout",
     "output_type": "stream",
     "text": [
      "s\n"
     ]
    }
   ],
   "source": [
    "# For doing (pseudo-)random things in Python.\n",
    "import random\n",
    "\n",
    "# Print a random character, for example.\n",
    "print(random.choice(chars))"
   ]
  },
  {
   "cell_type": "code",
   "execution_count": 4,
   "metadata": {},
   "outputs": [
    {
     "name": "stdout",
     "output_type": "stream",
     "text": [
      "x ueupwxrwrliev afiksudthmcf fujsttw owpqptf yzubraalviophyckljbboyngnhjbkxumclymsybohgioltwbxxidit wzz wimpcavtzoetkfbeozqvjxisulgrejdm vrjeo ecm mleftolntrhqbijff liijevwbsusxjovxnimavlosjanctwfyfplafyykhjojsczpclvxrcqrmegceklzupkkvwodantkmhswmeg  utirozrgh nmmisougbypmuisjzppjyjfaplzfeglb\n"
     ]
    }
   ],
   "source": [
    "# Get the length of alice.\n",
    "N = len(alice)\n",
    "\n",
    "# Generate N random characters from chars.\n",
    "gener = random.choices(chars, k=N)\n",
    "\n",
    "# Join them together in a string.\n",
    "gener = ''.join(gener)\n",
    "\n",
    "# Print.\n",
    "print(gener)"
   ]
  },
  {
   "cell_type": "markdown",
   "metadata": {},
   "source": [
    "<h2 style=\"color: rgb(0, 91, 94);\">Comparison</h2>\n",
    "\n",
    "<hr style=\"border-top: 1px solid rgb(0, 91, 94);\" />\n",
    "\n",
    "Which source do you think contains more information?\n",
    "\n",
    "In a *meaningful* sense, the Alice in Wonderland paragraph means more to us as humans.\n",
    "\n",
    "However, Shannon suggests that, as a source of information, the random text has the *capacity* to represent more information.\n",
    "\n",
    "This is because the Alice in Wonderland example has to follow the rules and conventions of the English language.\n",
    "\n",
    "If you were observing the sources a character at a time - let's say you receive one every second - you would be more *surprised* by the content of the random source."
   ]
  },
  {
   "cell_type": "markdown",
   "metadata": {},
   "source": [
    "<h2 style=\"color: rgb(0, 91, 94);\">Building Random Words</h2>\n",
    "\n",
    "<hr style=\"border-top: 1px solid rgb(0, 91, 94);\" />\n",
    "\n",
    "As an example for thinking about information content, Shannon proposed generating strings of letters based on their probabilities in the English language.\n",
    "\n",
    "For starters, let's re-build our string but *weight* the characters by their proportions in Alice in Wonderland."
   ]
  },
  {
   "cell_type": "code",
   "execution_count": 5,
   "metadata": {},
   "outputs": [
    {
     "data": {
      "text/plain": [
       "[9801,\n",
       " 1743,\n",
       " 3008,\n",
       " 5455,\n",
       " 15402,\n",
       " 2374,\n",
       " 2938,\n",
       " 7902,\n",
       " 8611,\n",
       " 232,\n",
       " 1291,\n",
       " 5194,\n",
       " 2459,\n",
       " 8032,\n",
       " 9471,\n",
       " 1971,\n",
       " 223,\n",
       " 6617,\n",
       " 7246,\n",
       " 12225,\n",
       " 3970,\n",
       " 962,\n",
       " 2958,\n",
       " 181,\n",
       " 2592,\n",
       " 80,\n",
       " 26950]"
      ]
     },
     "execution_count": 5,
     "metadata": {},
     "output_type": "execute_result"
    }
   ],
   "source": [
    "# Get the whole book in one big string.\n",
    "sbook = ''.join(book[26:]).lower()\n",
    "\n",
    "# Create the weights - count the occurences of each character in the whole book.\n",
    "weights = [sbook.count(c) for c in chars]\n",
    "\n",
    "# Show the weights.\n",
    "weights"
   ]
  },
  {
   "cell_type": "code",
   "execution_count": 6,
   "metadata": {},
   "outputs": [
    {
     "name": "stdout",
     "output_type": "stream",
     "text": [
      "aa  oomsfcsf e imedtoog laene htolmgkfdgcu lltot oce h  sufaneotdnanetoro  iuale lno ag u u uaudiht rtlrkn ytosa t  c ytcuisntb iihtoeoael oapehh lisd c rn gfooretmsf lltn nhyehs eluke dluiepeatthsseitraedgrad hwzt  lad idnetsnlth mmia  cwhneiattm u iftt keebiastbs ekh etfnthewsna pdaool s  \n"
     ]
    }
   ],
   "source": [
    "# Generate a string using those weights.\n",
    "wgenr = random.choices(chars, weights=weights, k=N)\n",
    "\n",
    "# Join them together in a string.\n",
    "wgenr = ''.join(wgenr)\n",
    "\n",
    "# Print.\n",
    "print(wgenr)"
   ]
  },
  {
   "cell_type": "markdown",
   "metadata": {},
   "source": [
    "Let's try this including the previous character as part of the weighting system."
   ]
  },
  {
   "cell_type": "code",
   "execution_count": 7,
   "metadata": {
    "scrolled": true
   },
   "outputs": [
    {
     "data": {
      "text/plain": [
       "{'a': {'a': 0,\n",
       "  'b': 243,\n",
       "  'c': 208,\n",
       "  'd': 482,\n",
       "  'e': 1,\n",
       "  'f': 68,\n",
       "  'g': 220,\n",
       "  'h': 30,\n",
       "  'i': 752,\n",
       "  'j': 12,\n",
       "  'k': 131,\n",
       "  'l': 1018,\n",
       "  'm': 202,\n",
       "  'n': 1776,\n",
       "  'o': 3,\n",
       "  'p': 147,\n",
       "  'q': 0,\n",
       "  'r': 846,\n",
       "  's': 944,\n",
       "  't': 1345,\n",
       "  'u': 80,\n",
       "  'v': 178,\n",
       "  'w': 96,\n",
       "  'x': 12,\n",
       "  'y': 294,\n",
       "  'z': 5,\n",
       "  ' ': 660},\n",
       " 'b': {'a': 82,\n",
       "  'b': 68,\n",
       "  'c': 0,\n",
       "  'd': 1,\n",
       "  'e': 651,\n",
       "  'f': 0,\n",
       "  'g': 0,\n",
       "  'h': 0,\n",
       "  'i': 122,\n",
       "  'j': 8,\n",
       "  'k': 0,\n",
       "  'l': 124,\n",
       "  'm': 1,\n",
       "  'n': 0,\n",
       "  'o': 228,\n",
       "  'p': 0,\n",
       "  'q': 0,\n",
       "  'r': 62,\n",
       "  's': 35,\n",
       "  't': 13,\n",
       "  'u': 239,\n",
       "  'v': 0,\n",
       "  'w': 0,\n",
       "  'x': 0,\n",
       "  'y': 101,\n",
       "  'z': 0,\n",
       "  ' ': 3},\n",
       " 'c': {'a': 353,\n",
       "  'b': 0,\n",
       "  'c': 36,\n",
       "  'd': 0,\n",
       "  'e': 796,\n",
       "  'f': 0,\n",
       "  'g': 0,\n",
       "  'h': 517,\n",
       "  'i': 56,\n",
       "  'j': 0,\n",
       "  'k': 182,\n",
       "  'l': 87,\n",
       "  'm': 0,\n",
       "  'n': 0,\n",
       "  'o': 455,\n",
       "  'p': 0,\n",
       "  'q': 0,\n",
       "  'r': 125,\n",
       "  's': 1,\n",
       "  't': 236,\n",
       "  'u': 113,\n",
       "  'v': 0,\n",
       "  'w': 0,\n",
       "  'x': 0,\n",
       "  'y': 8,\n",
       "  'z': 0,\n",
       "  ' ': 35},\n",
       " 'd': {'a': 137,\n",
       "  'b': 12,\n",
       "  'c': 4,\n",
       "  'd': 75,\n",
       "  'e': 525,\n",
       "  'f': 15,\n",
       "  'g': 34,\n",
       "  'h': 11,\n",
       "  'i': 331,\n",
       "  'j': 1,\n",
       "  'k': 1,\n",
       "  'l': 65,\n",
       "  'm': 3,\n",
       "  'n': 61,\n",
       "  'o': 487,\n",
       "  'p': 6,\n",
       "  'q': 0,\n",
       "  'r': 94,\n",
       "  's': 104,\n",
       "  't': 35,\n",
       "  'u': 70,\n",
       "  'v': 21,\n",
       "  'w': 12,\n",
       "  'x': 0,\n",
       "  'y': 52,\n",
       "  'z': 0,\n",
       "  ' ': 2853},\n",
       " 'e': {'a': 835,\n",
       "  'b': 55,\n",
       "  'c': 329,\n",
       "  'd': 1088,\n",
       "  'e': 553,\n",
       "  'f': 119,\n",
       "  'g': 145,\n",
       "  'h': 54,\n",
       "  'i': 112,\n",
       "  'j': 4,\n",
       "  'k': 19,\n",
       "  'l': 501,\n",
       "  'm': 324,\n",
       "  'n': 1147,\n",
       "  'o': 45,\n",
       "  'p': 188,\n",
       "  'q': 19,\n",
       "  'r': 2109,\n",
       "  's': 722,\n",
       "  't': 386,\n",
       "  'u': 8,\n",
       "  'v': 205,\n",
       "  'w': 79,\n",
       "  'x': 123,\n",
       "  'y': 224,\n",
       "  'z': 14,\n",
       "  ' ': 4843},\n",
       " 'f': {'a': 116,\n",
       "  'b': 0,\n",
       "  'c': 3,\n",
       "  'd': 1,\n",
       "  'e': 179,\n",
       "  'f': 132,\n",
       "  'g': 1,\n",
       "  'h': 1,\n",
       "  'i': 190,\n",
       "  'j': 0,\n",
       "  'k': 0,\n",
       "  'l': 36,\n",
       "  'm': 2,\n",
       "  'n': 1,\n",
       "  'o': 423,\n",
       "  'p': 1,\n",
       "  'q': 0,\n",
       "  'r': 114,\n",
       "  's': 3,\n",
       "  't': 88,\n",
       "  'u': 126,\n",
       "  'v': 1,\n",
       "  'w': 0,\n",
       "  'x': 0,\n",
       "  'y': 7,\n",
       "  'z': 0,\n",
       "  ' ': 831},\n",
       " 'g': {'a': 234,\n",
       "  'b': 1,\n",
       "  'c': 2,\n",
       "  'd': 1,\n",
       "  'e': 314,\n",
       "  'f': 5,\n",
       "  'g': 18,\n",
       "  'h': 339,\n",
       "  'i': 95,\n",
       "  'j': 0,\n",
       "  'k': 0,\n",
       "  'l': 64,\n",
       "  'm': 0,\n",
       "  'n': 13,\n",
       "  'o': 202,\n",
       "  'p': 2,\n",
       "  'q': 0,\n",
       "  'r': 252,\n",
       "  's': 67,\n",
       "  't': 18,\n",
       "  'u': 140,\n",
       "  'v': 1,\n",
       "  'w': 4,\n",
       "  'x': 0,\n",
       "  'y': 2,\n",
       "  'z': 1,\n",
       "  ' ': 864},\n",
       " 'h': {'a': 1211,\n",
       "  'b': 5,\n",
       "  'c': 3,\n",
       "  'd': 4,\n",
       "  'e': 4011,\n",
       "  'f': 3,\n",
       "  'g': 1,\n",
       "  'h': 1,\n",
       "  'i': 860,\n",
       "  'j': 1,\n",
       "  'k': 0,\n",
       "  'l': 4,\n",
       "  'm': 6,\n",
       "  'n': 3,\n",
       "  'o': 604,\n",
       "  'p': 1,\n",
       "  'q': 0,\n",
       "  'r': 89,\n",
       "  's': 8,\n",
       "  't': 250,\n",
       "  'u': 58,\n",
       "  'v': 0,\n",
       "  'w': 2,\n",
       "  'x': 0,\n",
       "  'y': 47,\n",
       "  'z': 0,\n",
       "  ' ': 571},\n",
       " 'i': {'a': 59,\n",
       "  'b': 53,\n",
       "  'c': 689,\n",
       "  'd': 730,\n",
       "  'e': 223,\n",
       "  'f': 193,\n",
       "  'g': 237,\n",
       "  'h': 1,\n",
       "  'i': 12,\n",
       "  'j': 0,\n",
       "  'k': 97,\n",
       "  'l': 345,\n",
       "  'm': 243,\n",
       "  'n': 2264,\n",
       "  'o': 299,\n",
       "  'p': 25,\n",
       "  'q': 0,\n",
       "  'r': 228,\n",
       "  's': 715,\n",
       "  't': 1492,\n",
       "  'u': 9,\n",
       "  'v': 105,\n",
       "  'w': 4,\n",
       "  'x': 11,\n",
       "  'y': 0,\n",
       "  'z': 27,\n",
       "  ' ': 369},\n",
       " 'j': {'a': 6,\n",
       "  'b': 0,\n",
       "  'c': 1,\n",
       "  'd': 0,\n",
       "  'e': 106,\n",
       "  'f': 0,\n",
       "  'g': 0,\n",
       "  'h': 0,\n",
       "  'i': 0,\n",
       "  'j': 0,\n",
       "  'k': 0,\n",
       "  'l': 0,\n",
       "  'm': 0,\n",
       "  'n': 0,\n",
       "  'o': 17,\n",
       "  'p': 0,\n",
       "  'q': 0,\n",
       "  'r': 0,\n",
       "  's': 0,\n",
       "  't': 0,\n",
       "  'u': 102,\n",
       "  'v': 0,\n",
       "  'w': 0,\n",
       "  'x': 0,\n",
       "  'y': 0,\n",
       "  'z': 0,\n",
       "  ' ': 0},\n",
       " 'k': {'a': 11,\n",
       "  'b': 0,\n",
       "  'c': 0,\n",
       "  'd': 0,\n",
       "  'e': 377,\n",
       "  'f': 1,\n",
       "  'g': 0,\n",
       "  'h': 0,\n",
       "  'i': 213,\n",
       "  'j': 0,\n",
       "  'k': 0,\n",
       "  'l': 23,\n",
       "  'm': 0,\n",
       "  'n': 139,\n",
       "  'o': 2,\n",
       "  'p': 0,\n",
       "  'q': 0,\n",
       "  'r': 1,\n",
       "  's': 62,\n",
       "  't': 8,\n",
       "  'u': 2,\n",
       "  'v': 0,\n",
       "  'w': 1,\n",
       "  'x': 0,\n",
       "  'y': 9,\n",
       "  'z': 0,\n",
       "  ' ': 327},\n",
       " 'l': {'a': 366,\n",
       "  'b': 5,\n",
       "  'c': 11,\n",
       "  'd': 346,\n",
       "  'e': 814,\n",
       "  'f': 147,\n",
       "  'g': 3,\n",
       "  'h': 4,\n",
       "  'i': 941,\n",
       "  'j': 0,\n",
       "  'k': 60,\n",
       "  'l': 748,\n",
       "  'm': 9,\n",
       "  'n': 0,\n",
       "  'o': 348,\n",
       "  'p': 16,\n",
       "  'q': 0,\n",
       "  'r': 8,\n",
       "  's': 51,\n",
       "  't': 69,\n",
       "  'u': 36,\n",
       "  'v': 13,\n",
       "  'w': 17,\n",
       "  'x': 0,\n",
       "  'y': 468,\n",
       "  'z': 0,\n",
       "  ' ': 562},\n",
       " 'm': {'a': 384,\n",
       "  'b': 64,\n",
       "  'c': 1,\n",
       "  'd': 0,\n",
       "  'e': 649,\n",
       "  'f': 10,\n",
       "  'g': 1,\n",
       "  'h': 1,\n",
       "  'i': 201,\n",
       "  'j': 0,\n",
       "  'k': 0,\n",
       "  'l': 4,\n",
       "  'm': 19,\n",
       "  'n': 19,\n",
       "  'o': 338,\n",
       "  'p': 105,\n",
       "  'q': 0,\n",
       "  'r': 0,\n",
       "  's': 47,\n",
       "  't': 5,\n",
       "  'u': 136,\n",
       "  'v': 0,\n",
       "  'w': 3,\n",
       "  'x': 0,\n",
       "  'y': 68,\n",
       "  'z': 0,\n",
       "  ' ': 281},\n",
       " 'n': {'a': 141,\n",
       "  'b': 99,\n",
       "  'c': 215,\n",
       "  'd': 1411,\n",
       "  'e': 597,\n",
       "  'f': 33,\n",
       "  'g': 1232,\n",
       "  'h': 8,\n",
       "  'i': 221,\n",
       "  'j': 3,\n",
       "  'k': 116,\n",
       "  'l': 100,\n",
       "  'm': 2,\n",
       "  'n': 57,\n",
       "  'o': 596,\n",
       "  'p': 7,\n",
       "  'q': 6,\n",
       "  'r': 3,\n",
       "  's': 205,\n",
       "  't': 577,\n",
       "  'u': 62,\n",
       "  'v': 22,\n",
       "  'w': 12,\n",
       "  'x': 17,\n",
       "  'y': 138,\n",
       "  'z': 0,\n",
       "  ' ': 1460},\n",
       " 'o': {'a': 27,\n",
       "  'b': 48,\n",
       "  'c': 113,\n",
       "  'd': 110,\n",
       "  'e': 51,\n",
       "  'f': 749,\n",
       "  'g': 42,\n",
       "  'h': 57,\n",
       "  'i': 130,\n",
       "  'j': 85,\n",
       "  'k': 223,\n",
       "  'l': 200,\n",
       "  'm': 336,\n",
       "  'n': 1295,\n",
       "  'o': 465,\n",
       "  'p': 160,\n",
       "  'q': 12,\n",
       "  'r': 937,\n",
       "  's': 154,\n",
       "  't': 499,\n",
       "  'u': 1704,\n",
       "  'v': 110,\n",
       "  'w': 566,\n",
       "  'x': 11,\n",
       "  'y': 22,\n",
       "  'z': 2,\n",
       "  ' ': 1231},\n",
       " 'p': {'a': 159,\n",
       "  'b': 3,\n",
       "  'c': 0,\n",
       "  'd': 2,\n",
       "  'e': 331,\n",
       "  'f': 0,\n",
       "  'g': 2,\n",
       "  'h': 82,\n",
       "  'i': 144,\n",
       "  'j': 0,\n",
       "  'k': 0,\n",
       "  'l': 222,\n",
       "  'm': 3,\n",
       "  'n': 0,\n",
       "  'o': 199,\n",
       "  'p': 130,\n",
       "  'q': 0,\n",
       "  'r': 233,\n",
       "  's': 32,\n",
       "  't': 86,\n",
       "  'u': 79,\n",
       "  'v': 0,\n",
       "  'w': 1,\n",
       "  'x': 0,\n",
       "  'y': 50,\n",
       "  'z': 0,\n",
       "  ' ': 160},\n",
       " 'q': {'a': 0,\n",
       "  'b': 0,\n",
       "  'c': 0,\n",
       "  'd': 0,\n",
       "  'e': 0,\n",
       "  'f': 0,\n",
       "  'g': 0,\n",
       "  'h': 0,\n",
       "  'i': 0,\n",
       "  'j': 0,\n",
       "  'k': 0,\n",
       "  'l': 0,\n",
       "  'm': 0,\n",
       "  'n': 0,\n",
       "  'o': 0,\n",
       "  'p': 0,\n",
       "  'q': 0,\n",
       "  'r': 0,\n",
       "  's': 0,\n",
       "  't': 0,\n",
       "  'u': 222,\n",
       "  'v': 0,\n",
       "  'w': 0,\n",
       "  'x': 0,\n",
       "  'y': 0,\n",
       "  'z': 0,\n",
       "  ' ': 0},\n",
       " 'r': {'a': 361,\n",
       "  'b': 3,\n",
       "  'c': 80,\n",
       "  'd': 185,\n",
       "  'e': 1344,\n",
       "  'f': 19,\n",
       "  'g': 175,\n",
       "  'h': 25,\n",
       "  'i': 453,\n",
       "  'j': 0,\n",
       "  'k': 155,\n",
       "  'l': 57,\n",
       "  'm': 136,\n",
       "  'n': 97,\n",
       "  'o': 543,\n",
       "  'p': 80,\n",
       "  'q': 3,\n",
       "  'r': 97,\n",
       "  's': 374,\n",
       "  't': 300,\n",
       "  'u': 85,\n",
       "  'v': 11,\n",
       "  'w': 13,\n",
       "  'x': 0,\n",
       "  'y': 393,\n",
       "  'z': 0,\n",
       "  ' ': 1242},\n",
       " 's': {'a': 668,\n",
       "  'b': 1,\n",
       "  'c': 49,\n",
       "  'd': 3,\n",
       "  'e': 896,\n",
       "  'f': 5,\n",
       "  'g': 7,\n",
       "  'h': 867,\n",
       "  'i': 299,\n",
       "  'j': 0,\n",
       "  'k': 48,\n",
       "  'l': 70,\n",
       "  'm': 29,\n",
       "  'n': 63,\n",
       "  'o': 451,\n",
       "  'p': 103,\n",
       "  'q': 7,\n",
       "  'r': 4,\n",
       "  's': 243,\n",
       "  't': 712,\n",
       "  'u': 175,\n",
       "  'v': 2,\n",
       "  'w': 42,\n",
       "  'x': 0,\n",
       "  'y': 10,\n",
       "  'z': 0,\n",
       "  ' ': 1890},\n",
       " 't': {'a': 339,\n",
       "  'b': 4,\n",
       "  'c': 48,\n",
       "  'd': 9,\n",
       "  'e': 1054,\n",
       "  'f': 17,\n",
       "  'g': 19,\n",
       "  'h': 3833,\n",
       "  'i': 636,\n",
       "  'j': 0,\n",
       "  'k': 3,\n",
       "  'l': 293,\n",
       "  'm': 84,\n",
       "  'n': 14,\n",
       "  'o': 1097,\n",
       "  'p': 3,\n",
       "  'q': 2,\n",
       "  'r': 242,\n",
       "  's': 200,\n",
       "  't': 376,\n",
       "  'u': 210,\n",
       "  'v': 2,\n",
       "  'w': 93,\n",
       "  'x': 1,\n",
       "  'y': 82,\n",
       "  'z': 0,\n",
       "  ' ': 2818},\n",
       " 'u': {'a': 28,\n",
       "  'b': 35,\n",
       "  'c': 186,\n",
       "  'd': 65,\n",
       "  'e': 169,\n",
       "  'f': 5,\n",
       "  'g': 175,\n",
       "  'h': 1,\n",
       "  'i': 90,\n",
       "  'j': 0,\n",
       "  'k': 5,\n",
       "  'l': 355,\n",
       "  'm': 60,\n",
       "  'n': 327,\n",
       "  'o': 3,\n",
       "  'p': 222,\n",
       "  'q': 0,\n",
       "  'r': 532,\n",
       "  's': 471,\n",
       "  't': 748,\n",
       "  'u': 0,\n",
       "  'v': 0,\n",
       "  'w': 1,\n",
       "  'x': 0,\n",
       "  'y': 0,\n",
       "  'z': 14,\n",
       "  ' ': 357},\n",
       " 'v': {'a': 29,\n",
       "  'b': 0,\n",
       "  'c': 0,\n",
       "  'd': 0,\n",
       "  'e': 759,\n",
       "  'f': 0,\n",
       "  'g': 0,\n",
       "  'h': 0,\n",
       "  'i': 96,\n",
       "  'j': 0,\n",
       "  'k': 0,\n",
       "  'l': 0,\n",
       "  'm': 0,\n",
       "  'n': 0,\n",
       "  'o': 70,\n",
       "  'p': 0,\n",
       "  'q': 0,\n",
       "  'r': 0,\n",
       "  's': 0,\n",
       "  't': 0,\n",
       "  'u': 1,\n",
       "  'v': 0,\n",
       "  'w': 0,\n",
       "  'x': 0,\n",
       "  'y': 3,\n",
       "  'z': 0,\n",
       "  ' ': 0},\n",
       " 'w': {'a': 600,\n",
       "  'b': 0,\n",
       "  'c': 1,\n",
       "  'd': 11,\n",
       "  'e': 365,\n",
       "  'f': 5,\n",
       "  'g': 0,\n",
       "  'h': 530,\n",
       "  'i': 444,\n",
       "  'j': 0,\n",
       "  'k': 1,\n",
       "  'l': 32,\n",
       "  'm': 1,\n",
       "  'n': 147,\n",
       "  'o': 354,\n",
       "  'p': 1,\n",
       "  'q': 1,\n",
       "  'r': 38,\n",
       "  's': 31,\n",
       "  't': 5,\n",
       "  'u': 0,\n",
       "  'v': 1,\n",
       "  'w': 15,\n",
       "  'x': 0,\n",
       "  'y': 0,\n",
       "  'z': 0,\n",
       "  ' ': 231},\n",
       " 'x': {'a': 12,\n",
       "  'b': 0,\n",
       "  'c': 18,\n",
       "  'd': 0,\n",
       "  'e': 27,\n",
       "  'f': 0,\n",
       "  'g': 0,\n",
       "  'h': 0,\n",
       "  'i': 27,\n",
       "  'j': 0,\n",
       "  'k': 0,\n",
       "  'l': 0,\n",
       "  'm': 0,\n",
       "  'n': 0,\n",
       "  'o': 0,\n",
       "  'p': 31,\n",
       "  'q': 0,\n",
       "  'r': 0,\n",
       "  's': 0,\n",
       "  't': 42,\n",
       "  'u': 0,\n",
       "  'v': 0,\n",
       "  'w': 0,\n",
       "  'x': 0,\n",
       "  'y': 0,\n",
       "  'z': 0,\n",
       "  ' ': 15},\n",
       " 'y': {'a': 34,\n",
       "  'b': 13,\n",
       "  'c': 13,\n",
       "  'd': 10,\n",
       "  'e': 104,\n",
       "  'f': 4,\n",
       "  'g': 3,\n",
       "  'h': 4,\n",
       "  'i': 67,\n",
       "  'j': 0,\n",
       "  'k': 2,\n",
       "  'l': 6,\n",
       "  'm': 10,\n",
       "  'n': 4,\n",
       "  'o': 586,\n",
       "  'p': 61,\n",
       "  'q': 0,\n",
       "  'r': 23,\n",
       "  's': 49,\n",
       "  't': 47,\n",
       "  'u': 3,\n",
       "  'v': 0,\n",
       "  'w': 8,\n",
       "  'x': 0,\n",
       "  'y': 3,\n",
       "  'z': 0,\n",
       "  ' ': 1106},\n",
       " 'z': {'a': 7,\n",
       "  'b': 0,\n",
       "  'c': 0,\n",
       "  'd': 0,\n",
       "  'e': 32,\n",
       "  'f': 0,\n",
       "  'g': 0,\n",
       "  'h': 0,\n",
       "  'i': 11,\n",
       "  'j': 0,\n",
       "  'k': 0,\n",
       "  'l': 14,\n",
       "  'm': 0,\n",
       "  'n': 0,\n",
       "  'o': 0,\n",
       "  'p': 0,\n",
       "  'q': 0,\n",
       "  'r': 0,\n",
       "  's': 0,\n",
       "  't': 0,\n",
       "  'u': 0,\n",
       "  'v': 0,\n",
       "  'w': 0,\n",
       "  'x': 0,\n",
       "  'y': 2,\n",
       "  'z': 14,\n",
       "  ' ': 0},\n",
       " ' ': {'a': 3304,\n",
       "  'b': 909,\n",
       "  'c': 918,\n",
       "  'd': 843,\n",
       "  'e': 413,\n",
       "  'f': 784,\n",
       "  'g': 601,\n",
       "  'h': 1438,\n",
       "  'i': 1749,\n",
       "  'j': 107,\n",
       "  'k': 245,\n",
       "  'l': 738,\n",
       "  'm': 900,\n",
       "  'n': 533,\n",
       "  'o': 1533,\n",
       "  'p': 622,\n",
       "  'q': 171,\n",
       "  'r': 522,\n",
       "  's': 2365,\n",
       "  't': 4280,\n",
       "  'u': 293,\n",
       "  'v': 225,\n",
       "  'w': 1766,\n",
       "  'x': 6,\n",
       "  'y': 505,\n",
       "  'z': 2,\n",
       "  ' ': 173}}"
      ]
     },
     "execution_count": 7,
     "metadata": {},
     "output_type": "execute_result"
    }
   ],
   "source": [
    "# Create the weights.\n",
    "twoghts = {c: {d: sbook.count(c + d) for d in chars} for c in chars}\n",
    "\n",
    "# Show the weights.\n",
    "twoghts"
   ]
  },
  {
   "cell_type": "markdown",
   "metadata": {},
   "source": [
    "We have to start with some letter, so let's just start with the most common letter."
   ]
  },
  {
   "cell_type": "code",
   "execution_count": 8,
   "metadata": {},
   "outputs": [
    {
     "name": "stdout",
     "output_type": "stream",
     "text": [
      "a: 9801\n",
      "b: 1743\n",
      "c: 3008\n",
      "d: 5455\n",
      "e: 15402\n",
      "f: 2374\n",
      "g: 2938\n",
      "h: 7902\n",
      "i: 8611\n",
      "j: 232\n",
      "k: 1291\n",
      "l: 5194\n",
      "m: 2459\n",
      "n: 8032\n",
      "o: 9471\n",
      "p: 1971\n",
      "q: 223\n",
      "r: 6617\n",
      "s: 7246\n",
      "t: 12225\n",
      "u: 3970\n",
      "v: 962\n",
      "w: 2958\n",
      "x: 181\n",
      "y: 2592\n",
      "z: 80\n",
      " : 26950\n"
     ]
    }
   ],
   "source": [
    "# Loop through our character set.\n",
    "for i in range(len(chars)):\n",
    "    # Print the character and how many times it appears in Alice in Wonderland.\n",
    "    print(f'{chars[i]}: {weights[i]}')"
   ]
  },
  {
   "cell_type": "code",
   "execution_count": 32,
   "metadata": {},
   "outputs": [],
   "source": [
    "# Start with space.\n",
    "pairs = ' '\n",
    "\n",
    "# Do the following N-1 times.\n",
    "for i in range(1, N):\n",
    "    # Get the weights where the previous character is the last character in twos.\n",
    "    wt = twoghts[pairs[-1]]\n",
    "    # Turn wt into a list, ordered by chars.\n",
    "    wt = [wt[c] for c in chars]\n",
    "    # Randomly pick the next character using those weights.\n",
    "    nextc = random.choices(chars, weights=wt, k=1)[0]\n",
    "    # Append the character to twos.\n",
    "    pairs = pairs + nextc"
   ]
  },
  {
   "cell_type": "code",
   "execution_count": 33,
   "metadata": {},
   "outputs": [
    {
     "data": {
      "text/plain": [
       "' t witholy de tout iceng ocade ouns halknin we ilintoqu o hayikedsf molin hth ve somay micherce s spe rend tbli te iad cear fre burp supeere whe whed uthinct thicke withe aicor iwh ngherlfugeridoue berilirhesat as mpsedice agh orche d fenghearer f o ashit t yaclly fed ikergrord pred d tit aw'"
      ]
     },
     "execution_count": 33,
     "metadata": {},
     "output_type": "execute_result"
    }
   ],
   "source": [
    "pairs"
   ]
  },
  {
   "cell_type": "markdown",
   "metadata": {},
   "source": [
    "<h3 style=\"color: #001a79;\">Exercise 1</h3>\n",
    "\n",
    "<hr style=\"border-top: 1px solid #001a79;\" />\n",
    "\n",
    "<i h3 style=\"color: #001a79;\">Remember to do these exercises in your own notebook in your assessment repository.</i>\n",
    "\n",
    "Adapt the code above to generate a 1000 character long string with weights based on the previous two characters.\n",
    "\n",
    "<hr style=\"border-top: 1px solid #001a79;\" />"
   ]
  },
  {
   "cell_type": "markdown",
   "metadata": {},
   "source": [
    "<h2 style=\"color: rgb(0, 91, 94);\">Entropy</h2>\n",
    "\n",
    "<hr style=\"border-top: 1px solid rgb(0, 91, 94);\" />\n",
    "\n",
    "The idea in the above example suggests the following: the more constraints we put on the randomly generated string, the more it looks like the English language.\n",
    "\n",
    "\n",
    "Shannon suggested that the information content of a message is related to how surprising it is - which means less constraints.\n",
    "\n",
    "\n",
    "He defined the information content $I$ of a message $M$ as:\n",
    "\n",
    "$I(M) = \\log_2 \\frac{1}{p(M)} = - \\log_2 p(M) \\ \\textrm{bits}$\n",
    "\n",
    "\n",
    "Here $p(M)$ is the probability of message $M$ appearing.\n",
    "\n",
    "\n",
    "So, if one bit of information is sent - let's say a 1 with probability of $\\frac{1}{2}$, then the information received is:\n",
    "\n",
    "$I(M) = - \\log_2 \\frac{1}{2} = \\log_2 2 = 1 \\ \\textrm{bit}$\n",
    "\n",
    "Let's calculate that with Python."
   ]
  },
  {
   "cell_type": "code",
   "execution_count": 11,
   "metadata": {},
   "outputs": [
    {
     "name": "stdout",
     "output_type": "stream",
     "text": [
      "1.0\n"
     ]
    }
   ],
   "source": [
    "# Mathematical functions.\n",
    "import math\n",
    "\n",
    "print(-math.log(0.5, 2))"
   ]
  },
  {
   "cell_type": "markdown",
   "metadata": {},
   "source": [
    "What if 1 is received with probability of $\\frac{1}{4}$?\n",
    "\n",
    "$I(M) = - \\log_2 \\frac{1}{4} = \\log_2 4 = 2 \\ \\textrm{bits}$"
   ]
  },
  {
   "cell_type": "code",
   "execution_count": 12,
   "metadata": {},
   "outputs": [
    {
     "name": "stdout",
     "output_type": "stream",
     "text": [
      "2.0\n"
     ]
    }
   ],
   "source": [
    "print(-math.log(0.25, 2))"
   ]
  },
  {
   "cell_type": "markdown",
   "metadata": {},
   "source": [
    "And what if 1 is received with probability of $\\frac{3}{4}$?\n",
    "\n",
    "$I(M) = - \\log_2 \\frac{3}{4} = \\log_2 \\frac{4}{3} \\approx 0.4 \\ \\textrm{bits}$"
   ]
  },
  {
   "cell_type": "code",
   "execution_count": 13,
   "metadata": {},
   "outputs": [
    {
     "name": "stdout",
     "output_type": "stream",
     "text": [
      "0.4150374992788438\n"
     ]
    }
   ],
   "source": [
    "# Mathematical functions.\n",
    "import math\n",
    "\n",
    "print(-math.log(0.75, 2))"
   ]
  },
  {
   "cell_type": "markdown",
   "metadata": {},
   "source": [
    "Of course, if a 1 is sent with probability of $\\frac{3}{4}$ then a 0 is sent with a probability $\\frac{1}{4}$, so what is the information content overall?\n",
    "\n",
    "Shannon suggested using the average information content for all possible messages:\n",
    "\n",
    "$ H = -\\sum p(x) \\log_2 p(x) \\ \\textrm{bits}$\n",
    "\n",
    "For a $50/50$ bit this gives:\n",
    "\n",
    "$ H = - ( 0.5 \\times \\log_2 \\frac{1}{2} + 0.5 \\times \\log_2 \\frac{1}{2} ) = 1 \\ \\textrm{bit} $"
   ]
  },
  {
   "cell_type": "code",
   "execution_count": 14,
   "metadata": {},
   "outputs": [
    {
     "data": {
      "text/plain": [
       "1.0"
      ]
     },
     "execution_count": 14,
     "metadata": {},
     "output_type": "execute_result"
    }
   ],
   "source": [
    "# [Probability of a 0, probability of a 1].\n",
    "p = [0.5, 0.5]\n",
    "\n",
    "-sum([p_i * math.log(p_i, 2) for p_i in p])"
   ]
  },
  {
   "cell_type": "markdown",
   "metadata": {},
   "source": [
    "However, for a $25/75$ bit:\n",
    "\n",
    "$ H = - ( 0.25 \\times \\log_2 \\frac{1}{4} + 0.75 \\times \\log_2 \\frac{3}{4} ) \\approx 0.8 \\ \\textrm{bits} $"
   ]
  },
  {
   "cell_type": "code",
   "execution_count": 15,
   "metadata": {},
   "outputs": [
    {
     "data": {
      "text/plain": [
       "0.8112781244591328"
      ]
     },
     "execution_count": 15,
     "metadata": {},
     "output_type": "execute_result"
    }
   ],
   "source": [
    "# [Probability of a 0, probability of a 1].\n",
    "p = [0.25, 0.75]\n",
    "\n",
    "-sum([p_i * math.log(p_i, 2) for p_i in p])"
   ]
  },
  {
   "cell_type": "code",
   "execution_count": 16,
   "metadata": {},
   "outputs": [
    {
     "data": {
      "image/png": "[encoded data removed]",
      "text/plain": [
       "<Figure size 1400x600 with 1 Axes>"
      ]
     },
     "metadata": {},
     "output_type": "display_data"
    }
   ],
   "source": [
    "# Plotting.\n",
    "import matplotlib.pyplot as plt\n",
    "# Numerical calculations.\n",
    "import numpy as np\n",
    "\n",
    "# A range of possible p values.\n",
    "# We have to avoid 0.0 and 1.0 because of the log.\n",
    "p_of_1 = np.linspace(0.01, 0.99, 1000)\n",
    "# Calculate the entropy.\n",
    "entropy = - (p_of_1 * np.log2(p_of_1) + (1.0 - p_of_1) * np.log2(1.0 - p_of_1))\n",
    "\n",
    "# Create the actual plot.\n",
    "fig, ax = plt.subplots(figsize=(14, 6))\n",
    "ax.plot(p_of_1, entropy, color='#ff791e')\n",
    "\n",
    "# Label the axes.\n",
    "ax.set_xlabel('Probability the bit is 1, not 0.')\n",
    "ax.set_ylabel('Entropy');"
   ]
  },
  {
   "cell_type": "markdown",
   "metadata": {},
   "source": [
    "<h2 style=\"color: rgb(0, 91, 94);\">Fire Alarms</h2>\n",
    "\n",
    "<hr style=\"border-top: 1px solid rgb(0, 91, 94);\" />\n",
    "\n",
    "Consider the information you get from a domestic fire alarm.\n",
    "\n",
    "When it is not screeching, we are not very surprised.\n",
    "\n",
    "When it is screeching, we are suprised - it almost never happens.\n",
    "\n",
    "Suppose it only screeches, on average, for ten minutes every year.\n",
    "\n",
    "What is the information contents of its states, and what is the entropy?"
   ]
  },
  {
   "cell_type": "code",
   "execution_count": 17,
   "metadata": {},
   "outputs": [
    {
     "data": {
      "text/plain": [
       "525600"
      ]
     },
     "execution_count": 17,
     "metadata": {},
     "output_type": "execute_result"
    }
   ],
   "source": [
    "# Minutes in a (non-leap) year.\n",
    "mins_in_year = 365 * 24 * 60\n",
    "mins_in_year"
   ]
  },
  {
   "cell_type": "code",
   "execution_count": 18,
   "metadata": {},
   "outputs": [
    {
     "name": "stdout",
     "output_type": "stream",
     "text": [
      "1.9025875190258754e-05\n"
     ]
    }
   ],
   "source": [
    "# Probability of it screeching.\n",
    "p_screech = 10 / 525600\n",
    "print(p_screech)"
   ]
  },
  {
   "cell_type": "code",
   "execution_count": 19,
   "metadata": {},
   "outputs": [
    {
     "data": {
      "text/plain": [
       "15.681677655209693"
      ]
     },
     "execution_count": 19,
     "metadata": {},
     "output_type": "execute_result"
    }
   ],
   "source": [
    "# Information content of a screech.\n",
    "-math.log(p_screech, 2)"
   ]
  },
  {
   "cell_type": "code",
   "execution_count": 20,
   "metadata": {},
   "outputs": [
    {
     "data": {
      "text/plain": [
       "2.744879690499961e-05"
      ]
     },
     "execution_count": 20,
     "metadata": {},
     "output_type": "execute_result"
    }
   ],
   "source": [
    "# Information content of no screech.\n",
    "-math.log(1.0 - p_screech, 2)"
   ]
  },
  {
   "cell_type": "code",
   "execution_count": 21,
   "metadata": {},
   "outputs": [
    {
     "name": "stdout",
     "output_type": "stream",
     "text": [
      "0.00032580591650950477 bits\n"
     ]
    }
   ],
   "source": [
    "# Entropy of the fire alarm as a source of information.\n",
    "p = [p_screech, 1.0 - p_screech]\n",
    "entropy = -sum([p_i * math.log(p_i, 2) for p_i in p])\n",
    "\n",
    "print(f'{entropy} bits')"
   ]
  },
  {
   "cell_type": "markdown",
   "metadata": {},
   "source": [
    "<h2 style=\"color: rgb(0, 91, 94);\">PIN codes</h2>\n",
    "\n",
    "<hr style=\"border-top: 1px solid rgb(0, 91, 94);\" />\n",
    "\n",
    "Entropy gives us a framework in which to analyse passwords and PIN codes.\n",
    "\n",
    "Entropy can help us rationalise why your bank selects your PIN code randomly, why they want you to change it to something random - not your date of birth, and to measure the benefit of increasing the PIN length.\n",
    "\n",
    "Banks typically use four-digit PIN codes for ATM cards.\n",
    "\n",
    "The information of a given four digit PIN is:"
   ]
  },
  {
   "cell_type": "code",
   "execution_count": 22,
   "metadata": {},
   "outputs": [
    {
     "data": {
      "text/plain": [
       "13.287712379549449"
      ]
     },
     "execution_count": 22,
     "metadata": {},
     "output_type": "execute_result"
    }
   ],
   "source": [
    "# A four digit PIN has 10,000 possible values.\n",
    "-math.log(1.0/10000.0, 2)"
   ]
  },
  {
   "cell_type": "code",
   "execution_count": 23,
   "metadata": {},
   "outputs": [
    {
     "name": "stdout",
     "output_type": "stream",
     "text": [
      "13.28771237954811 bits\n"
     ]
    }
   ],
   "source": [
    "# Entropy of a four-digit PIN code.\n",
    "p = [1.0 / 10000.0 for i in range(10000)]\n",
    "entropy = -sum([p_i * math.log(p_i, 2) for p_i in p])\n",
    "\n",
    "print(f'{entropy} bits')"
   ]
  },
  {
   "cell_type": "code",
   "execution_count": 24,
   "metadata": {},
   "outputs": [
    {
     "name": "stdout",
     "output_type": "stream",
     "text": [
      "19.931568569559303 bits\n"
     ]
    }
   ],
   "source": [
    "# Entropy of a six-digit PIN code.\n",
    "p = [1.0 / 1000000.0 for i in range(1000000)]\n",
    "entropy = -sum([p_i * math.log(p_i, 2) for p_i in p])\n",
    "\n",
    "print(f'{entropy} bits')"
   ]
  },
  {
   "cell_type": "markdown",
   "metadata": {},
   "source": [
    "<h2 style=\"color: rgb(0, 91, 94);\">John Tukey</h2>\n",
    "\n",
    "<hr style=\"border-top: 1px solid rgb(0, 91, 94);\" />\n",
    "\n",
    "As a side note, Shannon credits John Tukey with coining the term bit:\n",
    "\n",
    "https://en.wikipedia.org/wiki/John_Tukey\n",
    "\n",
    "<img style=\"border: 1px solid #ff791e; max-width: 200px;\" src=\"https://upload.wikimedia.org/wikipedia/en/e/e9/John_Tukey.jpg\" alt=\"John Tukey\"></img>\n"
   ]
  },
  {
   "cell_type": "markdown",
   "metadata": {},
   "source": [
    "<h3 style=\"color: #001a79;\">Exercise 2</h3>\n",
    "\n",
    "<hr style=\"border-top: 1px solid #001a79;\" />\n",
    "\n",
    "<i h3 style=\"color: #001a79;\">Remember to do these exercises in your own notebook in your assessment repository.</i>\n",
    "\n",
    "Explain why the log of zero is undefined.\n",
    "\n",
    "<hr style=\"border-top: 1px solid #001a79;\" />"
   ]
  },
  {
   "cell_type": "markdown",
   "metadata": {},
   "source": [
    "<hr style=\"border-top: 1px solid rgb(0, 91, 94);\" />\n",
    "\n",
    "<h2 style=\"color: rgb(0, 91, 94);\">End</h2>"
   ]
  }
 ],
 "metadata": {
  "kernelspec": {
   "display_name": "Python 3 (ipykernel)",
   "language": "python",
   "name": "python3"
  },
  "language_info": {
   "codemirror_mode": {
    "name": "ipython",
    "version": 3
   },
   "file_extension": ".py",
   "mimetype": "text/x-python",
   "name": "python",
   "nbconvert_exporter": "python",
   "pygments_lexer": "ipython3",
   "version": "3.11.0"
  }
 },
 "nbformat": 4,
 "nbformat_minor": 4
}
